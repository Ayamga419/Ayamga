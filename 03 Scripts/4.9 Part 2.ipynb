{
 "cells": [
  {
   "cell_type": "code",
   "execution_count": 1,
   "id": "7afb9ded",
   "metadata": {},
   "outputs": [],
   "source": [
    "# import libraries\n",
    "\n",
    "import pandas as pd\n",
    "import numpy as np\n",
    "import os\n",
    "import matplotlib.pyplot as plt\n",
    "import seaborn as sns\n",
    "import scipy"
   ]
  },
  {
   "cell_type": "code",
   "execution_count": 2,
   "id": "31c35cdd",
   "metadata": {},
   "outputs": [],
   "source": [
    "path = r'C:\\Users\\Saskia\\Desktop\\new'"
   ]
  },
  {
   "cell_type": "code",
   "execution_count": 3,
   "id": "bd192f1d",
   "metadata": {},
   "outputs": [],
   "source": [
    "full_merge = pd.read_pickle(r'C:\\Users\\Saskia\\Desktop\\new\\02 Data\\Prepared Data\\Full_data.pkl')"
   ]
  },
  {
   "cell_type": "code",
   "execution_count": 4,
   "id": "73298ed1",
   "metadata": {},
   "outputs": [
    {
     "data": {
      "text/plain": [
       "(16153014, 36)"
      ]
     },
     "execution_count": 4,
     "metadata": {},
     "output_type": "execute_result"
    }
   ],
   "source": [
    "full_merge.shape"
   ]
  },
  {
   "cell_type": "code",
   "execution_count": 5,
   "id": "e77b60a7",
   "metadata": {},
   "outputs": [
    {
     "data": {
      "text/html": [
       "<div>\n",
       "<style scoped>\n",
       "    .dataframe tbody tr th:only-of-type {\n",
       "        vertical-align: middle;\n",
       "    }\n",
       "\n",
       "    .dataframe tbody tr th {\n",
       "        vertical-align: top;\n",
       "    }\n",
       "\n",
       "    .dataframe thead th {\n",
       "        text-align: right;\n",
       "    }\n",
       "</style>\n",
       "<table border=\"1\" class=\"dataframe\">\n",
       "  <thead>\n",
       "    <tr style=\"text-align: right;\">\n",
       "      <th></th>\n",
       "      <th>Unnamed: 0</th>\n",
       "      <th>product_id</th>\n",
       "      <th>product_name</th>\n",
       "      <th>aisle_id</th>\n",
       "      <th>department_id</th>\n",
       "      <th>prices</th>\n",
       "      <th>order_id</th>\n",
       "      <th>user_id</th>\n",
       "      <th>eval_set</th>\n",
       "      <th>order_number</th>\n",
       "      <th>...</th>\n",
       "      <th>first_name</th>\n",
       "      <th>Surnam</th>\n",
       "      <th>gender</th>\n",
       "      <th>state</th>\n",
       "      <th>age</th>\n",
       "      <th>date_joined</th>\n",
       "      <th>#_dependants</th>\n",
       "      <th>marital_status</th>\n",
       "      <th>income</th>\n",
       "      <th>#_depndants</th>\n",
       "    </tr>\n",
       "  </thead>\n",
       "  <tbody>\n",
       "    <tr>\n",
       "      <th>0</th>\n",
       "      <td>0</td>\n",
       "      <td>1</td>\n",
       "      <td>Chocolate Sandwich Cookies</td>\n",
       "      <td>61</td>\n",
       "      <td>19</td>\n",
       "      <td>5.8</td>\n",
       "      <td>65</td>\n",
       "      <td>9</td>\n",
       "      <td>prior</td>\n",
       "      <td>16</td>\n",
       "      <td>...</td>\n",
       "      <td>Nicole</td>\n",
       "      <td>Conrad</td>\n",
       "      <td>Male</td>\n",
       "      <td>District of Columbia</td>\n",
       "      <td>79</td>\n",
       "      <td>1/16/2020</td>\n",
       "      <td>3</td>\n",
       "      <td>married</td>\n",
       "      <td>154743</td>\n",
       "      <td>3</td>\n",
       "    </tr>\n",
       "    <tr>\n",
       "      <th>1</th>\n",
       "      <td>0</td>\n",
       "      <td>1</td>\n",
       "      <td>Chocolate Sandwich Cookies</td>\n",
       "      <td>61</td>\n",
       "      <td>19</td>\n",
       "      <td>5.8</td>\n",
       "      <td>-103</td>\n",
       "      <td>9</td>\n",
       "      <td>prior</td>\n",
       "      <td>2</td>\n",
       "      <td>...</td>\n",
       "      <td>Nicole</td>\n",
       "      <td>Conrad</td>\n",
       "      <td>Male</td>\n",
       "      <td>District of Columbia</td>\n",
       "      <td>79</td>\n",
       "      <td>1/16/2020</td>\n",
       "      <td>3</td>\n",
       "      <td>married</td>\n",
       "      <td>154743</td>\n",
       "      <td>3</td>\n",
       "    </tr>\n",
       "    <tr>\n",
       "      <th>2</th>\n",
       "      <td>0</td>\n",
       "      <td>1</td>\n",
       "      <td>Chocolate Sandwich Cookies</td>\n",
       "      <td>61</td>\n",
       "      <td>19</td>\n",
       "      <td>5.8</td>\n",
       "      <td>113</td>\n",
       "      <td>9</td>\n",
       "      <td>prior</td>\n",
       "      <td>4</td>\n",
       "      <td>...</td>\n",
       "      <td>Nicole</td>\n",
       "      <td>Conrad</td>\n",
       "      <td>Male</td>\n",
       "      <td>District of Columbia</td>\n",
       "      <td>79</td>\n",
       "      <td>1/16/2020</td>\n",
       "      <td>3</td>\n",
       "      <td>married</td>\n",
       "      <td>154743</td>\n",
       "      <td>3</td>\n",
       "    </tr>\n",
       "    <tr>\n",
       "      <th>3</th>\n",
       "      <td>0</td>\n",
       "      <td>1</td>\n",
       "      <td>Chocolate Sandwich Cookies</td>\n",
       "      <td>61</td>\n",
       "      <td>19</td>\n",
       "      <td>5.8</td>\n",
       "      <td>-67</td>\n",
       "      <td>9</td>\n",
       "      <td>prior</td>\n",
       "      <td>6</td>\n",
       "      <td>...</td>\n",
       "      <td>Nicole</td>\n",
       "      <td>Conrad</td>\n",
       "      <td>Male</td>\n",
       "      <td>District of Columbia</td>\n",
       "      <td>79</td>\n",
       "      <td>1/16/2020</td>\n",
       "      <td>3</td>\n",
       "      <td>married</td>\n",
       "      <td>154743</td>\n",
       "      <td>3</td>\n",
       "    </tr>\n",
       "    <tr>\n",
       "      <th>4</th>\n",
       "      <td>0</td>\n",
       "      <td>1</td>\n",
       "      <td>Chocolate Sandwich Cookies</td>\n",
       "      <td>61</td>\n",
       "      <td>19</td>\n",
       "      <td>5.8</td>\n",
       "      <td>-12</td>\n",
       "      <td>9</td>\n",
       "      <td>prior</td>\n",
       "      <td>7</td>\n",
       "      <td>...</td>\n",
       "      <td>Nicole</td>\n",
       "      <td>Conrad</td>\n",
       "      <td>Male</td>\n",
       "      <td>District of Columbia</td>\n",
       "      <td>79</td>\n",
       "      <td>1/16/2020</td>\n",
       "      <td>3</td>\n",
       "      <td>married</td>\n",
       "      <td>154743</td>\n",
       "      <td>3</td>\n",
       "    </tr>\n",
       "  </tbody>\n",
       "</table>\n",
       "<p>5 rows × 36 columns</p>\n",
       "</div>"
      ],
      "text/plain": [
       "   Unnamed: 0  product_id                product_name  aisle_id  \\\n",
       "0           0           1  Chocolate Sandwich Cookies        61   \n",
       "1           0           1  Chocolate Sandwich Cookies        61   \n",
       "2           0           1  Chocolate Sandwich Cookies        61   \n",
       "3           0           1  Chocolate Sandwich Cookies        61   \n",
       "4           0           1  Chocolate Sandwich Cookies        61   \n",
       "\n",
       "   department_id  prices  order_id user_id eval_set  order_number  ...  \\\n",
       "0             19     5.8        65       9    prior            16  ...   \n",
       "1             19     5.8      -103       9    prior             2  ...   \n",
       "2             19     5.8       113       9    prior             4  ...   \n",
       "3             19     5.8       -67       9    prior             6  ...   \n",
       "4             19     5.8       -12       9    prior             7  ...   \n",
       "\n",
       "   first_name  Surnam  gender                 state  age date_joined  \\\n",
       "0      Nicole  Conrad    Male  District of Columbia   79   1/16/2020   \n",
       "1      Nicole  Conrad    Male  District of Columbia   79   1/16/2020   \n",
       "2      Nicole  Conrad    Male  District of Columbia   79   1/16/2020   \n",
       "3      Nicole  Conrad    Male  District of Columbia   79   1/16/2020   \n",
       "4      Nicole  Conrad    Male  District of Columbia   79   1/16/2020   \n",
       "\n",
       "  #_dependants marital_status  income #_depndants  \n",
       "0            3        married  154743           3  \n",
       "1            3        married  154743           3  \n",
       "2            3        married  154743           3  \n",
       "3            3        married  154743           3  \n",
       "4            3        married  154743           3  \n",
       "\n",
       "[5 rows x 36 columns]"
      ]
     },
     "execution_count": 5,
     "metadata": {},
     "output_type": "execute_result"
    }
   ],
   "source": [
    "full_merge.head()"
   ]
  },
  {
   "cell_type": "code",
   "execution_count": 6,
   "id": "70878346",
   "metadata": {},
   "outputs": [
    {
     "data": {
      "text/plain": [
       "Index(['Unnamed: 0', 'product_id', 'product_name', 'aisle_id', 'department_id',\n",
       "       'prices', 'order_id', 'user_id', 'eval_set', 'order_number',\n",
       "       'orders_day_of_week', 'order_time_of_day', 'days_since_prior_order',\n",
       "       'add_to_cart_order', 'reordered', '_merge', 'busiest_day',\n",
       "       'busiest days', 'busiest_days', 'busiest_period_of_day', 'max_order',\n",
       "       'loyalty_flag', 'average_spending', 'spending_flag',\n",
       "       'purchase_frequency', 'frequency_flag', 'first_name', 'Surnam',\n",
       "       'gender', 'state', 'age', 'date_joined', '#_dependants',\n",
       "       'marital_status', 'income', '#_depndants'],\n",
       "      dtype='object')"
      ]
     },
     "execution_count": 6,
     "metadata": {},
     "output_type": "execute_result"
    }
   ],
   "source": [
    "full_merge.columns"
   ]
  },
  {
   "cell_type": "code",
   "execution_count": 7,
   "id": "75c8c275",
   "metadata": {},
   "outputs": [
    {
     "data": {
      "image/png": "[encoded data removed]",
      "text/plain": [
       "<Figure size 432x288 with 1 Axes>"
      ]
     },
     "metadata": {
      "needs_background": "light"
     },
     "output_type": "display_data"
    }
   ],
   "source": [
    "# Create a bar chart\n",
    "\n",
    "bar = full_merge['orders_day_of_week'].value_counts().plot.bar(color = ['red', 'pink', 'orange'])"
   ]
  },
  {
   "cell_type": "code",
   "execution_count": 8,
   "id": "f21bf814",
   "metadata": {},
   "outputs": [
    {
     "data": {
      "image/png": "[encoded data removed]",
      "text/plain": [
       "<Figure size 432x288 with 1 Axes>"
      ]
     },
     "metadata": {
      "needs_background": "light"
     },
     "output_type": "display_data"
    }
   ],
   "source": [
    "# Create Histogram\n",
    "\n",
    "hist = full_merge['prices'].plot.hist(bins = 70)"
   ]
  },
  {
   "cell_type": "code",
   "execution_count": 9,
   "id": "18240879",
   "metadata": {},
   "outputs": [
    {
     "data": {
      "image/png": "[encoded data removed]",
      "text/plain": [
       "<Figure size 432x288 with 1 Axes>"
      ]
     },
     "metadata": {
      "needs_background": "light"
     },
     "output_type": "display_data"
    }
   ],
   "source": [
    "# Create Scatterplot\n",
    "\n",
    "splot = sns.scatterplot(x = 'prices', y = 'prices', data = full_merge)"
   ]
  },
  {
   "cell_type": "code",
   "execution_count": 10,
   "id": "38567f2b",
   "metadata": {},
   "outputs": [],
   "source": [
    "np.random.seed(4)"
   ]
  },
  {
   "cell_type": "code",
   "execution_count": 12,
   "id": "f21922f3",
   "metadata": {},
   "outputs": [],
   "source": [
    "dev = np.random.rand(len(full_merge)) <= 0.7"
   ]
  },
  {
   "cell_type": "code",
   "execution_count": 13,
   "id": "3531d051",
   "metadata": {},
   "outputs": [
    {
     "data": {
      "text/plain": [
       "array([False,  True, False, ..., False,  True, False])"
      ]
     },
     "execution_count": 13,
     "metadata": {},
     "output_type": "execute_result"
    }
   ],
   "source": [
    "dev"
   ]
  },
  {
   "cell_type": "code",
   "execution_count": 15,
   "id": "aebbb2bd",
   "metadata": {},
   "outputs": [],
   "source": [
    "big = full_merge[dev]"
   ]
  },
  {
   "cell_type": "code",
   "execution_count": 17,
   "id": "4c1d682f",
   "metadata": {},
   "outputs": [],
   "source": [
    "small = full_merge[~dev]"
   ]
  },
  {
   "cell_type": "code",
   "execution_count": 18,
   "id": "0ba0926a",
   "metadata": {},
   "outputs": [],
   "source": [
    "# Store 70% as big\n",
    "\n",
    "big = full_merge[dev]"
   ]
  },
  {
   "cell_type": "code",
   "execution_count": 19,
   "id": "c90fad52",
   "metadata": {},
   "outputs": [],
   "source": [
    "# store 30% as small\n",
    "\n",
    "small = full_merge[~dev]"
   ]
  },
  {
   "cell_type": "code",
   "execution_count": 20,
   "id": "47cbd271",
   "metadata": {},
   "outputs": [
    {
     "data": {
      "text/plain": [
       "16153014"
      ]
     },
     "execution_count": 20,
     "metadata": {},
     "output_type": "execute_result"
    }
   ],
   "source": [
    "len(full_merge)"
   ]
  },
  {
   "cell_type": "code",
   "execution_count": 21,
   "id": "f36bee46",
   "metadata": {},
   "outputs": [
    {
     "data": {
      "text/plain": [
       "16153014"
      ]
     },
     "execution_count": 21,
     "metadata": {},
     "output_type": "execute_result"
    }
   ],
   "source": [
    "len(big) + len(small)"
   ]
  },
  {
   "cell_type": "code",
   "execution_count": 22,
   "id": "87fbda19",
   "metadata": {},
   "outputs": [],
   "source": [
    "# Dataframe for line chart\n",
    "\n",
    "full_merge_1 = small[['orders_day_of_week','prices']]"
   ]
  },
  {
   "cell_type": "code",
   "execution_count": 23,
   "id": "2cfc310c",
   "metadata": {},
   "outputs": [
    {
     "data": {
      "text/html": [
       "<div>\n",
       "<style scoped>\n",
       "    .dataframe tbody tr th:only-of-type {\n",
       "        vertical-align: middle;\n",
       "    }\n",
       "\n",
       "    .dataframe tbody tr th {\n",
       "        vertical-align: top;\n",
       "    }\n",
       "\n",
       "    .dataframe thead th {\n",
       "        text-align: right;\n",
       "    }\n",
       "</style>\n",
       "<table border=\"1\" class=\"dataframe\">\n",
       "  <thead>\n",
       "    <tr style=\"text-align: right;\">\n",
       "      <th></th>\n",
       "      <th>orders_day_of_week</th>\n",
       "      <th>prices</th>\n",
       "    </tr>\n",
       "  </thead>\n",
       "  <tbody>\n",
       "    <tr>\n",
       "      <th>0</th>\n",
       "      <td>1</td>\n",
       "      <td>5.8</td>\n",
       "    </tr>\n",
       "    <tr>\n",
       "      <th>2</th>\n",
       "      <td>4</td>\n",
       "      <td>5.8</td>\n",
       "    </tr>\n",
       "    <tr>\n",
       "      <th>3</th>\n",
       "      <td>1</td>\n",
       "      <td>5.8</td>\n",
       "    </tr>\n",
       "    <tr>\n",
       "      <th>6</th>\n",
       "      <td>1</td>\n",
       "      <td>5.8</td>\n",
       "    </tr>\n",
       "    <tr>\n",
       "      <th>10</th>\n",
       "      <td>1</td>\n",
       "      <td>5.8</td>\n",
       "    </tr>\n",
       "    <tr>\n",
       "      <th>...</th>\n",
       "      <td>...</td>\n",
       "      <td>...</td>\n",
       "    </tr>\n",
       "    <tr>\n",
       "      <th>16152996</th>\n",
       "      <td>2</td>\n",
       "      <td>13.2</td>\n",
       "    </tr>\n",
       "    <tr>\n",
       "      <th>16153003</th>\n",
       "      <td>1</td>\n",
       "      <td>13.2</td>\n",
       "    </tr>\n",
       "    <tr>\n",
       "      <th>16153010</th>\n",
       "      <td>1</td>\n",
       "      <td>13.2</td>\n",
       "    </tr>\n",
       "    <tr>\n",
       "      <th>16153011</th>\n",
       "      <td>0</td>\n",
       "      <td>13.2</td>\n",
       "    </tr>\n",
       "    <tr>\n",
       "      <th>16153013</th>\n",
       "      <td>5</td>\n",
       "      <td>3.1</td>\n",
       "    </tr>\n",
       "  </tbody>\n",
       "</table>\n",
       "<p>4844333 rows × 2 columns</p>\n",
       "</div>"
      ],
      "text/plain": [
       "          orders_day_of_week  prices\n",
       "0                          1     5.8\n",
       "2                          4     5.8\n",
       "3                          1     5.8\n",
       "6                          1     5.8\n",
       "10                         1     5.8\n",
       "...                      ...     ...\n",
       "16152996                   2    13.2\n",
       "16153003                   1    13.2\n",
       "16153010                   1    13.2\n",
       "16153011                   0    13.2\n",
       "16153013                   5     3.1\n",
       "\n",
       "[4844333 rows x 2 columns]"
      ]
     },
     "execution_count": 23,
     "metadata": {},
     "output_type": "execute_result"
    }
   ],
   "source": [
    "full_merge_1"
   ]
  },
  {
   "cell_type": "code",
   "execution_count": 24,
   "id": "d469a564",
   "metadata": {},
   "outputs": [
    {
     "data": {
      "image/png": "[encoded data removed]",
      "text/plain": [
       "<Figure size 432x288 with 1 Axes>"
      ]
     },
     "metadata": {
      "needs_background": "light"
     },
     "output_type": "display_data"
    }
   ],
   "source": [
    "# Creating line chart for 30%\n",
    "\n",
    "line = sns.lineplot(data = full_merge_1, x = 'orders_day_of_week',y = 'prices')"
   ]
  },
  {
   "cell_type": "code",
   "execution_count": 26,
   "id": "63571fc6",
   "metadata": {},
   "outputs": [
    {
     "data": {
      "image/png": "[encoded data removed]",
      "text/plain": [
       "<Figure size 432x288 with 1 Axes>"
      ]
     },
     "metadata": {
      "needs_background": "light"
     },
     "output_type": "display_data"
    }
   ],
   "source": [
    "# Creating Histogram\n",
    "\n",
    "hist_2 = full_merge['order_time_of_day'].plot.hist(bins = 50, color = 'yellow')"
   ]
  },
  {
   "cell_type": "code",
   "execution_count": 27,
   "id": "2a58d5f2",
   "metadata": {},
   "outputs": [],
   "source": [
    "# Most orders are placed between 10:00am to 15:00pm and orders are very low from midnight to about 6:00am.\n",
    "\n"
   ]
  },
  {
   "cell_type": "code",
   "execution_count": 28,
   "id": "60377fe5",
   "metadata": {},
   "outputs": [
    {
     "data": {
      "image/png": "[encoded data removed]",
      "text/plain": [
       "<Figure size 432x288 with 1 Axes>"
      ]
     },
     "metadata": {
      "needs_background": "light"
     },
     "output_type": "display_data"
    }
   ],
   "source": [
    "# Creating a bar chart for loyalty customers\n",
    "\n",
    "bar = full_merge['loyalty_flag'].value_counts().plot.bar()"
   ]
  },
  {
   "cell_type": "code",
   "execution_count": 29,
   "id": "f683bed1",
   "metadata": {},
   "outputs": [],
   "source": [
    "full_merge_2 = small[['order_time_of_day','prices']]"
   ]
  },
  {
   "cell_type": "code",
   "execution_count": 30,
   "id": "aa0a3f70",
   "metadata": {},
   "outputs": [
    {
     "data": {
      "text/html": [
       "<div>\n",
       "<style scoped>\n",
       "    .dataframe tbody tr th:only-of-type {\n",
       "        vertical-align: middle;\n",
       "    }\n",
       "\n",
       "    .dataframe tbody tr th {\n",
       "        vertical-align: top;\n",
       "    }\n",
       "\n",
       "    .dataframe thead th {\n",
       "        text-align: right;\n",
       "    }\n",
       "</style>\n",
       "<table border=\"1\" class=\"dataframe\">\n",
       "  <thead>\n",
       "    <tr style=\"text-align: right;\">\n",
       "      <th></th>\n",
       "      <th>order_time_of_day</th>\n",
       "      <th>prices</th>\n",
       "    </tr>\n",
       "  </thead>\n",
       "  <tbody>\n",
       "    <tr>\n",
       "      <th>0</th>\n",
       "      <td>7</td>\n",
       "      <td>5.8</td>\n",
       "    </tr>\n",
       "    <tr>\n",
       "      <th>2</th>\n",
       "      <td>11</td>\n",
       "      <td>5.8</td>\n",
       "    </tr>\n",
       "    <tr>\n",
       "      <th>3</th>\n",
       "      <td>14</td>\n",
       "      <td>5.8</td>\n",
       "    </tr>\n",
       "    <tr>\n",
       "      <th>6</th>\n",
       "      <td>13</td>\n",
       "      <td>5.8</td>\n",
       "    </tr>\n",
       "    <tr>\n",
       "      <th>10</th>\n",
       "      <td>13</td>\n",
       "      <td>5.8</td>\n",
       "    </tr>\n",
       "    <tr>\n",
       "      <th>...</th>\n",
       "      <td>...</td>\n",
       "      <td>...</td>\n",
       "    </tr>\n",
       "    <tr>\n",
       "      <th>16152996</th>\n",
       "      <td>12</td>\n",
       "      <td>13.2</td>\n",
       "    </tr>\n",
       "    <tr>\n",
       "      <th>16153003</th>\n",
       "      <td>14</td>\n",
       "      <td>13.2</td>\n",
       "    </tr>\n",
       "    <tr>\n",
       "      <th>16153010</th>\n",
       "      <td>9</td>\n",
       "      <td>13.2</td>\n",
       "    </tr>\n",
       "    <tr>\n",
       "      <th>16153011</th>\n",
       "      <td>7</td>\n",
       "      <td>13.2</td>\n",
       "    </tr>\n",
       "    <tr>\n",
       "      <th>16153013</th>\n",
       "      <td>14</td>\n",
       "      <td>3.1</td>\n",
       "    </tr>\n",
       "  </tbody>\n",
       "</table>\n",
       "<p>4844333 rows × 2 columns</p>\n",
       "</div>"
      ],
      "text/plain": [
       "          order_time_of_day  prices\n",
       "0                         7     5.8\n",
       "2                        11     5.8\n",
       "3                        14     5.8\n",
       "6                        13     5.8\n",
       "10                       13     5.8\n",
       "...                     ...     ...\n",
       "16152996                 12    13.2\n",
       "16153003                 14    13.2\n",
       "16153010                  9    13.2\n",
       "16153011                  7    13.2\n",
       "16153013                 14     3.1\n",
       "\n",
       "[4844333 rows x 2 columns]"
      ]
     },
     "execution_count": 30,
     "metadata": {},
     "output_type": "execute_result"
    }
   ],
   "source": [
    "full_merge_2"
   ]
  },
  {
   "cell_type": "code",
   "execution_count": 32,
   "id": "7f9e733e",
   "metadata": {},
   "outputs": [
    {
     "data": {
      "image/png": "[encoded data removed]",
      "text/plain": [
       "<Figure size 432x288 with 1 Axes>"
      ]
     },
     "metadata": {
      "needs_background": "light"
     },
     "output_type": "display_data"
    }
   ],
   "source": [
    "# Creating line chart for 30%\n",
    "\n",
    "line_2 = sns.lineplot(data = full_merge_2, x = 'order_time_of_day',y = 'prices')"
   ]
  },
  {
   "cell_type": "code",
   "execution_count": 34,
   "id": "d5b5a8ed",
   "metadata": {},
   "outputs": [],
   "source": [
    "# Spending is much in the earlier hours which also has a smaller size of order. Moreover there is higher orders with lower expenditure during afternoons."
   ]
  },
  {
   "cell_type": "code",
   "execution_count": 35,
   "id": "97aae43e",
   "metadata": {},
   "outputs": [],
   "source": [
    "full_merge_3 = small[['age','#_dependants']]"
   ]
  },
  {
   "cell_type": "code",
   "execution_count": 36,
   "id": "1ff56d81",
   "metadata": {},
   "outputs": [
    {
     "data": {
      "text/html": [
       "<div>\n",
       "<style scoped>\n",
       "    .dataframe tbody tr th:only-of-type {\n",
       "        vertical-align: middle;\n",
       "    }\n",
       "\n",
       "    .dataframe tbody tr th {\n",
       "        vertical-align: top;\n",
       "    }\n",
       "\n",
       "    .dataframe thead th {\n",
       "        text-align: right;\n",
       "    }\n",
       "</style>\n",
       "<table border=\"1\" class=\"dataframe\">\n",
       "  <thead>\n",
       "    <tr style=\"text-align: right;\">\n",
       "      <th></th>\n",
       "      <th>age</th>\n",
       "      <th>#_dependants</th>\n",
       "    </tr>\n",
       "  </thead>\n",
       "  <tbody>\n",
       "    <tr>\n",
       "      <th>0</th>\n",
       "      <td>79</td>\n",
       "      <td>3</td>\n",
       "    </tr>\n",
       "    <tr>\n",
       "      <th>2</th>\n",
       "      <td>79</td>\n",
       "      <td>3</td>\n",
       "    </tr>\n",
       "    <tr>\n",
       "      <th>3</th>\n",
       "      <td>79</td>\n",
       "      <td>3</td>\n",
       "    </tr>\n",
       "    <tr>\n",
       "      <th>6</th>\n",
       "      <td>79</td>\n",
       "      <td>3</td>\n",
       "    </tr>\n",
       "    <tr>\n",
       "      <th>10</th>\n",
       "      <td>79</td>\n",
       "      <td>3</td>\n",
       "    </tr>\n",
       "    <tr>\n",
       "      <th>...</th>\n",
       "      <td>...</td>\n",
       "      <td>...</td>\n",
       "    </tr>\n",
       "    <tr>\n",
       "      <th>16152996</th>\n",
       "      <td>50</td>\n",
       "      <td>1</td>\n",
       "    </tr>\n",
       "    <tr>\n",
       "      <th>16153003</th>\n",
       "      <td>50</td>\n",
       "      <td>1</td>\n",
       "    </tr>\n",
       "    <tr>\n",
       "      <th>16153010</th>\n",
       "      <td>50</td>\n",
       "      <td>1</td>\n",
       "    </tr>\n",
       "    <tr>\n",
       "      <th>16153011</th>\n",
       "      <td>50</td>\n",
       "      <td>1</td>\n",
       "    </tr>\n",
       "    <tr>\n",
       "      <th>16153013</th>\n",
       "      <td>50</td>\n",
       "      <td>1</td>\n",
       "    </tr>\n",
       "  </tbody>\n",
       "</table>\n",
       "<p>4844333 rows × 2 columns</p>\n",
       "</div>"
      ],
      "text/plain": [
       "          age  #_dependants\n",
       "0          79             3\n",
       "2          79             3\n",
       "3          79             3\n",
       "6          79             3\n",
       "10         79             3\n",
       "...       ...           ...\n",
       "16152996   50             1\n",
       "16153003   50             1\n",
       "16153010   50             1\n",
       "16153011   50             1\n",
       "16153013   50             1\n",
       "\n",
       "[4844333 rows x 2 columns]"
      ]
     },
     "execution_count": 36,
     "metadata": {},
     "output_type": "execute_result"
    }
   ],
   "source": [
    "full_merge_3"
   ]
  },
  {
   "cell_type": "code",
   "execution_count": 37,
   "id": "371e13d6",
   "metadata": {},
   "outputs": [
    {
     "data": {
      "image/png": "[encoded data removed]",
      "text/plain": [
       "<Figure size 432x288 with 1 Axes>"
      ]
     },
     "metadata": {
      "needs_background": "light"
     },
     "output_type": "display_data"
    }
   ],
   "source": [
    "# Creating line chart for 30%\n",
    "\n",
    "line_3 = sns.lineplot(data = full_merge_3, x = 'age',y = '#_dependants')"
   ]
  },
  {
   "cell_type": "code",
   "execution_count": 38,
   "id": "952b137a",
   "metadata": {},
   "outputs": [
    {
     "data": {
      "text/plain": [
       "count    4.844333e+06\n",
       "mean     1.616459e+00\n",
       "std      1.136868e+00\n",
       "min      0.000000e+00\n",
       "25%      1.000000e+00\n",
       "50%      2.000000e+00\n",
       "75%      3.000000e+00\n",
       "max      3.000000e+00\n",
       "Name: #_dependants, dtype: float64"
      ]
     },
     "execution_count": 38,
     "metadata": {},
     "output_type": "execute_result"
    }
   ],
   "source": [
    "full_merge_3['#_dependants'].describe()"
   ]
  },
  {
   "cell_type": "code",
   "execution_count": 39,
   "id": "bd560577",
   "metadata": {},
   "outputs": [],
   "source": [
    "# There is no connection between age and dependancy."
   ]
  },
  {
   "cell_type": "code",
   "execution_count": 40,
   "id": "aed35cf9",
   "metadata": {
    "scrolled": true
   },
   "outputs": [
    {
     "data": {
      "image/png": "[encoded data removed]",
      "text/plain": [
       "<Figure size 432x288 with 1 Axes>"
      ]
     },
     "metadata": {
      "needs_background": "light"
     },
     "output_type": "display_data"
    }
   ],
   "source": [
    "# connection between age and spending power\n",
    "\n",
    "scatter_2 = sns.scatterplot(x = 'age', y = 'income', data = full_merge)"
   ]
  },
  {
   "cell_type": "code",
   "execution_count": 42,
   "id": "b00d7eec",
   "metadata": {},
   "outputs": [],
   "source": [
    "# Exporting Charts\n",
    "\n",
    "bar.figure.savefig(os.path.join(path, '04 Analysis','Visualisations', 'bar_Orders_day_of_week'))"
   ]
  },
  {
   "cell_type": "code",
   "execution_count": 43,
   "id": "dad8309d",
   "metadata": {},
   "outputs": [],
   "source": [
    "hist.figure.savefig(os.path.join(path, '04 Analysis','Visualisations', 'histogram_prices'))"
   ]
  },
  {
   "cell_type": "code",
   "execution_count": 44,
   "id": "97d45131",
   "metadata": {},
   "outputs": [],
   "source": [
    "hist_2.figure.savefig(os.path.join(path, '04 Analysis','Visualisations', 'histogram_order_time_of_day'))"
   ]
  },
  {
   "cell_type": "code",
   "execution_count": 45,
   "id": "eea883d7",
   "metadata": {},
   "outputs": [],
   "source": [
    "splot.figure.savefig(os.path.join(path, '04 Analysis','Visualisations', 'splot_prices'))"
   ]
  },
  {
   "cell_type": "code",
   "execution_count": 46,
   "id": "4b0b37fb",
   "metadata": {},
   "outputs": [],
   "source": [
    "line.figure.savefig(os.path.join(path, '04 Analysis','Visualisations', 'line_orders_day_of_week'))"
   ]
  },
  {
   "cell_type": "code",
   "execution_count": 47,
   "id": "e534c2b4",
   "metadata": {},
   "outputs": [],
   "source": [
    "line_2.figure.savefig(os.path.join(path, '04 Analysis','Visualisations', 'line_order_time_of_day'))"
   ]
  },
  {
   "cell_type": "code",
   "execution_count": 48,
   "id": "7578e455",
   "metadata": {},
   "outputs": [],
   "source": [
    "line_3.figure.savefig(os.path.join(path, '04 Analysis','Visualisations', 'line-dependants'))"
   ]
  },
  {
   "cell_type": "code",
   "execution_count": 50,
   "id": "38754e9e",
   "metadata": {},
   "outputs": [],
   "source": [
    "scatter_2.figure.savefig(os.path.join(path, '04 Analysis','Visualisations', 'scatter_age_income'))"
   ]
  },
  {
   "cell_type": "code",
   "execution_count": null,
   "id": "4a8799c8",
   "metadata": {},
   "outputs": [],
   "source": []
  }
 ],
 "metadata": {
  "kernelspec": {
   "display_name": "Python 3 (ipykernel)",
   "language": "python",
   "name": "python3"
  },
  "language_info": {
   "codemirror_mode": {
    "name": "ipython",
    "version": 3
   },
   "file_extension": ".py",
   "mimetype": "text/x-python",
   "name": "python",
   "nbconvert_exporter": "python",
   "pygments_lexer": "ipython3",
   "version": "3.9.12"
  }
 },
 "nbformat": 4,
 "nbformat_minor": 5
}
