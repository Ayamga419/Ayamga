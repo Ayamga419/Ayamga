{
 "cells": [
  {
   "cell_type": "code",
   "execution_count": 1,
   "id": "269d2770",
   "metadata": {},
   "outputs": [],
   "source": [
    "# import libraries\n",
    "import pandas as pd\n",
    "import numpy as np\n",
    "import os"
   ]
  },
  {
   "cell_type": "code",
   "execution_count": 8,
   "id": "b09948a0",
   "metadata": {},
   "outputs": [],
   "source": [
    "ords_prod_comb = pd.read_pickle(r'C:\\Users\\New\\Desktop\\new\\02 Data\\Prepared Data\\orders_products_combined.pkl')"
   ]
  },
  {
   "cell_type": "code",
   "execution_count": 9,
   "id": "6caa59d5",
   "metadata": {},
   "outputs": [
    {
     "data": {
      "text/plain": [
       "(32434489, 11)"
      ]
     },
     "execution_count": 9,
     "metadata": {},
     "output_type": "execute_result"
    }
   ],
   "source": [
    "ords_prod_comb.shape"
   ]
  },
  {
   "cell_type": "code",
   "execution_count": 11,
   "id": "f917d8a1",
   "metadata": {},
   "outputs": [
    {
     "data": {
      "text/plain": [
       "Index(['order_id', 'user_id', 'eval_set', 'order_number', 'orders_day_of_week',\n",
       "       'order_time_of_day', 'days_since_prior_order', 'product_id',\n",
       "       'add_to_cart_order', 'reordered', '_merge'],\n",
       "      dtype='object')"
      ]
     },
     "execution_count": 11,
     "metadata": {},
     "output_type": "execute_result"
    }
   ],
   "source": [
    "ords_prod_comb.columns"
   ]
  },
  {
   "cell_type": "code",
   "execution_count": 12,
   "id": "a20779f4",
   "metadata": {},
   "outputs": [],
   "source": [
    "ord_wrang = pd.read_csv(r'C:\\Users\\New\\Desktop\\new\\02 Data\\Prepared Data\\orders_wrangled.csv', index_col = False)"
   ]
  },
  {
   "cell_type": "code",
   "execution_count": 13,
   "id": "9537a6cf",
   "metadata": {},
   "outputs": [
    {
     "data": {
      "text/plain": [
       "Index(['Unnamed: 0', 'order_id', 'user_id', 'eval_set', 'order_number',\n",
       "       'orders_day_of_week', 'order_hour_of_day', 'days_since_prior_order'],\n",
       "      dtype='object')"
      ]
     },
     "execution_count": 13,
     "metadata": {},
     "output_type": "execute_result"
    }
   ],
   "source": [
    "ord_wrang.columns"
   ]
  },
  {
   "cell_type": "code",
   "execution_count": 14,
   "id": "713f5186",
   "metadata": {},
   "outputs": [
    {
     "data": {
      "text/plain": [
       "(3421083, 8)"
      ]
     },
     "execution_count": 14,
     "metadata": {},
     "output_type": "execute_result"
    }
   ],
   "source": [
    "ord_wrang.shape"
   ]
  },
  {
   "cell_type": "code",
   "execution_count": 15,
   "id": "92cc4584",
   "metadata": {},
   "outputs": [
    {
     "name": "stdout",
     "output_type": "stream",
     "text": [
      "<class 'pandas.core.frame.DataFrame'>\n",
      "Int64Index: 32434489 entries, 0 to 32434488\n",
      "Data columns (total 11 columns):\n",
      " #   Column                  Dtype   \n",
      "---  ------                  -----   \n",
      " 0   order_id                int32   \n",
      " 1   user_id                 int32   \n",
      " 2   eval_set                object  \n",
      " 3   order_number            int8    \n",
      " 4   orders_day_of_week      int8    \n",
      " 5   order_time_of_day       int8    \n",
      " 6   days_since_prior_order  float64 \n",
      " 7   product_id              int64   \n",
      " 8   add_to_cart_order       int64   \n",
      " 9   reordered               int64   \n",
      " 10  _merge                  category\n",
      "dtypes: category(1), float64(1), int32(2), int64(3), int8(3), object(1)\n",
      "memory usage: 1.8+ GB\n"
     ]
    }
   ],
   "source": [
    "ords_prod_comb.info()"
   ]
  },
  {
   "cell_type": "code",
   "execution_count": 17,
   "id": "98579a4f",
   "metadata": {},
   "outputs": [
    {
     "name": "stdout",
     "output_type": "stream",
     "text": [
      "<class 'pandas.core.frame.DataFrame'>\n",
      "RangeIndex: 3421083 entries, 0 to 3421082\n",
      "Data columns (total 8 columns):\n",
      " #   Column                  Dtype  \n",
      "---  ------                  -----  \n",
      " 0   Unnamed: 0              int64  \n",
      " 1   order_id                int64  \n",
      " 2   user_id                 int64  \n",
      " 3   eval_set                object \n",
      " 4   order_number            int64  \n",
      " 5   orders_day_of_week      int64  \n",
      " 6   order_hour_of_day       int64  \n",
      " 7   days_since_prior_order  float64\n",
      "dtypes: float64(1), int64(6), object(1)\n",
      "memory usage: 208.8+ MB\n"
     ]
    }
   ],
   "source": [
    "ord_wrang.info()"
   ]
  },
  {
   "cell_type": "code",
   "execution_count": 18,
   "id": "29e4b49e",
   "metadata": {},
   "outputs": [],
   "source": [
    "path = r'C:\\Users\\New\\Desktop\\new'"
   ]
  },
  {
   "cell_type": "code",
   "execution_count": 19,
   "id": "11ab1192",
   "metadata": {},
   "outputs": [],
   "source": [
    "ord_wrang['order_id'] = ord_wrang['order_id'].astype('int32')"
   ]
  },
  {
   "cell_type": "code",
   "execution_count": 20,
   "id": "b0eec4cf",
   "metadata": {},
   "outputs": [],
   "source": [
    "ord_wrang['user_id'] = ord_wrang['user_id'].astype('int32')"
   ]
  },
  {
   "cell_type": "code",
   "execution_count": 21,
   "id": "7eed68fe",
   "metadata": {},
   "outputs": [],
   "source": [
    "ord_wrang['order_number'] = ord_wrang['order_number'].astype('int8')"
   ]
  },
  {
   "cell_type": "code",
   "execution_count": 26,
   "id": "20c70e1d",
   "metadata": {},
   "outputs": [],
   "source": [
    "ord_wrang['order_hour_of_day'] = ord_wrang['order_hour_of_day'].astype('int8')"
   ]
  },
  {
   "cell_type": "code",
   "execution_count": 24,
   "id": "8e415111",
   "metadata": {},
   "outputs": [],
   "source": [
    "ord_wrang['orders_day_of_week'] = ord_wrang['orders_day_of_week'].astype('int8')"
   ]
  },
  {
   "cell_type": "code",
   "execution_count": 27,
   "id": "b4f22f15",
   "metadata": {},
   "outputs": [],
   "source": [
    "ord_wrang['Unnamed: 0'] = ord_wrang['Unnamed: 0'].astype('int8')"
   ]
  },
  {
   "cell_type": "code",
   "execution_count": 28,
   "id": "336065f7",
   "metadata": {},
   "outputs": [
    {
     "name": "stdout",
     "output_type": "stream",
     "text": [
      "<class 'pandas.core.frame.DataFrame'>\n",
      "RangeIndex: 3421083 entries, 0 to 3421082\n",
      "Data columns (total 8 columns):\n",
      " #   Column                  Dtype  \n",
      "---  ------                  -----  \n",
      " 0   Unnamed: 0              int8   \n",
      " 1   order_id                int32  \n",
      " 2   user_id                 int32  \n",
      " 3   eval_set                object \n",
      " 4   order_number            int8   \n",
      " 5   orders_day_of_week      int8   \n",
      " 6   order_hour_of_day       int8   \n",
      " 7   days_since_prior_order  float64\n",
      "dtypes: float64(1), int32(2), int8(4), object(1)\n",
      "memory usage: 91.4+ MB\n"
     ]
    }
   ],
   "source": [
    "ord_wrang.info()"
   ]
  },
  {
   "cell_type": "code",
   "execution_count": 29,
   "id": "3251def6",
   "metadata": {},
   "outputs": [],
   "source": [
    "ords_prod_comb['product_id'] = ords_prod_comb['product_id'].astype('int32')"
   ]
  },
  {
   "cell_type": "code",
   "execution_count": 30,
   "id": "f2d958be",
   "metadata": {},
   "outputs": [],
   "source": [
    "ords_prod_comb['reordered'] = ords_prod_comb['reordered'].astype('int32')"
   ]
  },
  {
   "cell_type": "code",
   "execution_count": 31,
   "id": "0fe48469",
   "metadata": {},
   "outputs": [],
   "source": [
    "ords_prod_comb['add_to_cart_order'] = ords_prod_comb['add_to_cart_order'].astype('int32')"
   ]
  },
  {
   "cell_type": "code",
   "execution_count": 32,
   "id": "61c6ebf4",
   "metadata": {},
   "outputs": [
    {
     "name": "stdout",
     "output_type": "stream",
     "text": [
      "<class 'pandas.core.frame.DataFrame'>\n",
      "Int64Index: 32434489 entries, 0 to 32434488\n",
      "Data columns (total 11 columns):\n",
      " #   Column                  Dtype   \n",
      "---  ------                  -----   \n",
      " 0   order_id                int32   \n",
      " 1   user_id                 int32   \n",
      " 2   eval_set                object  \n",
      " 3   order_number            int8    \n",
      " 4   orders_day_of_week      int8    \n",
      " 5   order_time_of_day       int8    \n",
      " 6   days_since_prior_order  float64 \n",
      " 7   product_id              int32   \n",
      " 8   add_to_cart_order       int32   \n",
      " 9   reordered               int32   \n",
      " 10  _merge                  category\n",
      "dtypes: category(1), float64(1), int32(5), int8(3), object(1)\n",
      "memory usage: 1.4+ GB\n"
     ]
    }
   ],
   "source": [
    "ords_prod_comb.info()"
   ]
  },
  {
   "cell_type": "code",
   "execution_count": null,
   "id": "ad5a15a8",
   "metadata": {},
   "outputs": [],
   "source": []
  }
 ],
 "metadata": {
  "kernelspec": {
   "display_name": "Python 3 (ipykernel)",
   "language": "python",
   "name": "python3"
  },
  "language_info": {
   "codemirror_mode": {
    "name": "ipython",
    "version": 3
   },
   "file_extension": ".py",
   "mimetype": "text/x-python",
   "name": "python",
   "nbconvert_exporter": "python",
   "pygments_lexer": "ipython3",
   "version": "3.9.12"
  }
 },
 "nbformat": 4,
 "nbformat_minor": 5
}
