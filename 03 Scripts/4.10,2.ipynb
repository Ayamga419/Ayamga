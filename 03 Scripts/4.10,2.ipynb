{
 "cells": [
  {
   "cell_type": "code",
   "execution_count": 1,
   "id": "54a0c84f",
   "metadata": {},
   "outputs": [],
   "source": [
    "## Contents\n",
    "\n",
    "## 1. Checks and Preparation\n",
    "## 2. PII \n",
    "## 3. Regions\n",
    "## 4. Flags for Low activity\n",
    "## 5. Customer Profile\n",
    "## 6. Max, Mean and Min\n",
    "## 7. Visualization\n",
    "## 8. Exporting Visualization"
   ]
  },
  {
   "cell_type": "code",
   "execution_count": 2,
   "id": "d9b18927",
   "metadata": {},
   "outputs": [],
   "source": [
    "# import libraries\n",
    "\n",
    "import pandas as pd\n",
    "import numpy as np\n",
    "import os\n",
    "import matplotlib.pyplot as plt\n",
    "import seaborn as sns\n",
    "import scipy"
   ]
  },
  {
   "cell_type": "code",
   "execution_count": 3,
   "id": "9c1fda26",
   "metadata": {},
   "outputs": [],
   "source": [
    "path = r'C:\\Users\\Saskia\\Desktop\\new'"
   ]
  },
  {
   "cell_type": "code",
   "execution_count": 4,
   "id": "3b0e8095",
   "metadata": {},
   "outputs": [],
   "source": [
    "full_data = pd.read_pickle(r'C:\\Users\\Saskia\\Desktop\\new\\02 Data\\Prepared Data\\Full_data.pkl')"
   ]
  },
  {
   "cell_type": "code",
   "execution_count": 5,
   "id": "0b7573b4",
   "metadata": {},
   "outputs": [
    {
     "data": {
      "text/plain": [
       "(16153014, 36)"
      ]
     },
     "execution_count": 5,
     "metadata": {},
     "output_type": "execute_result"
    }
   ],
   "source": [
    "# Checking Dataframe\n",
    "\n",
    "full_data.shape"
   ]
  },
  {
   "cell_type": "code",
   "execution_count": 6,
   "id": "b7bd124a",
   "metadata": {},
   "outputs": [
    {
     "data": {
      "text/html": [
       "<div>\n",
       "<style scoped>\n",
       "    .dataframe tbody tr th:only-of-type {\n",
       "        vertical-align: middle;\n",
       "    }\n",
       "\n",
       "    .dataframe tbody tr th {\n",
       "        vertical-align: top;\n",
       "    }\n",
       "\n",
       "    .dataframe thead th {\n",
       "        text-align: right;\n",
       "    }\n",
       "</style>\n",
       "<table border=\"1\" class=\"dataframe\">\n",
       "  <thead>\n",
       "    <tr style=\"text-align: right;\">\n",
       "      <th></th>\n",
       "      <th>Unnamed: 0</th>\n",
       "      <th>product_id</th>\n",
       "      <th>product_name</th>\n",
       "      <th>aisle_id</th>\n",
       "      <th>department_id</th>\n",
       "      <th>prices</th>\n",
       "      <th>order_id</th>\n",
       "      <th>user_id</th>\n",
       "      <th>eval_set</th>\n",
       "      <th>order_number</th>\n",
       "      <th>...</th>\n",
       "      <th>first_name</th>\n",
       "      <th>Surnam</th>\n",
       "      <th>gender</th>\n",
       "      <th>state</th>\n",
       "      <th>age</th>\n",
       "      <th>date_joined</th>\n",
       "      <th>#_dependants</th>\n",
       "      <th>marital_status</th>\n",
       "      <th>income</th>\n",
       "      <th>#_depndants</th>\n",
       "    </tr>\n",
       "  </thead>\n",
       "  <tbody>\n",
       "    <tr>\n",
       "      <th>0</th>\n",
       "      <td>0</td>\n",
       "      <td>1</td>\n",
       "      <td>Chocolate Sandwich Cookies</td>\n",
       "      <td>61</td>\n",
       "      <td>19</td>\n",
       "      <td>5.8</td>\n",
       "      <td>65</td>\n",
       "      <td>9</td>\n",
       "      <td>prior</td>\n",
       "      <td>16</td>\n",
       "      <td>...</td>\n",
       "      <td>Nicole</td>\n",
       "      <td>Conrad</td>\n",
       "      <td>Male</td>\n",
       "      <td>District of Columbia</td>\n",
       "      <td>79</td>\n",
       "      <td>1/16/2020</td>\n",
       "      <td>3</td>\n",
       "      <td>married</td>\n",
       "      <td>154743</td>\n",
       "      <td>3</td>\n",
       "    </tr>\n",
       "    <tr>\n",
       "      <th>1</th>\n",
       "      <td>0</td>\n",
       "      <td>1</td>\n",
       "      <td>Chocolate Sandwich Cookies</td>\n",
       "      <td>61</td>\n",
       "      <td>19</td>\n",
       "      <td>5.8</td>\n",
       "      <td>-103</td>\n",
       "      <td>9</td>\n",
       "      <td>prior</td>\n",
       "      <td>2</td>\n",
       "      <td>...</td>\n",
       "      <td>Nicole</td>\n",
       "      <td>Conrad</td>\n",
       "      <td>Male</td>\n",
       "      <td>District of Columbia</td>\n",
       "      <td>79</td>\n",
       "      <td>1/16/2020</td>\n",
       "      <td>3</td>\n",
       "      <td>married</td>\n",
       "      <td>154743</td>\n",
       "      <td>3</td>\n",
       "    </tr>\n",
       "    <tr>\n",
       "      <th>2</th>\n",
       "      <td>0</td>\n",
       "      <td>1</td>\n",
       "      <td>Chocolate Sandwich Cookies</td>\n",
       "      <td>61</td>\n",
       "      <td>19</td>\n",
       "      <td>5.8</td>\n",
       "      <td>113</td>\n",
       "      <td>9</td>\n",
       "      <td>prior</td>\n",
       "      <td>4</td>\n",
       "      <td>...</td>\n",
       "      <td>Nicole</td>\n",
       "      <td>Conrad</td>\n",
       "      <td>Male</td>\n",
       "      <td>District of Columbia</td>\n",
       "      <td>79</td>\n",
       "      <td>1/16/2020</td>\n",
       "      <td>3</td>\n",
       "      <td>married</td>\n",
       "      <td>154743</td>\n",
       "      <td>3</td>\n",
       "    </tr>\n",
       "    <tr>\n",
       "      <th>3</th>\n",
       "      <td>0</td>\n",
       "      <td>1</td>\n",
       "      <td>Chocolate Sandwich Cookies</td>\n",
       "      <td>61</td>\n",
       "      <td>19</td>\n",
       "      <td>5.8</td>\n",
       "      <td>-67</td>\n",
       "      <td>9</td>\n",
       "      <td>prior</td>\n",
       "      <td>6</td>\n",
       "      <td>...</td>\n",
       "      <td>Nicole</td>\n",
       "      <td>Conrad</td>\n",
       "      <td>Male</td>\n",
       "      <td>District of Columbia</td>\n",
       "      <td>79</td>\n",
       "      <td>1/16/2020</td>\n",
       "      <td>3</td>\n",
       "      <td>married</td>\n",
       "      <td>154743</td>\n",
       "      <td>3</td>\n",
       "    </tr>\n",
       "    <tr>\n",
       "      <th>4</th>\n",
       "      <td>0</td>\n",
       "      <td>1</td>\n",
       "      <td>Chocolate Sandwich Cookies</td>\n",
       "      <td>61</td>\n",
       "      <td>19</td>\n",
       "      <td>5.8</td>\n",
       "      <td>-12</td>\n",
       "      <td>9</td>\n",
       "      <td>prior</td>\n",
       "      <td>7</td>\n",
       "      <td>...</td>\n",
       "      <td>Nicole</td>\n",
       "      <td>Conrad</td>\n",
       "      <td>Male</td>\n",
       "      <td>District of Columbia</td>\n",
       "      <td>79</td>\n",
       "      <td>1/16/2020</td>\n",
       "      <td>3</td>\n",
       "      <td>married</td>\n",
       "      <td>154743</td>\n",
       "      <td>3</td>\n",
       "    </tr>\n",
       "  </tbody>\n",
       "</table>\n",
       "<p>5 rows × 36 columns</p>\n",
       "</div>"
      ],
      "text/plain": [
       "   Unnamed: 0  product_id                product_name  aisle_id  \\\n",
       "0           0           1  Chocolate Sandwich Cookies        61   \n",
       "1           0           1  Chocolate Sandwich Cookies        61   \n",
       "2           0           1  Chocolate Sandwich Cookies        61   \n",
       "3           0           1  Chocolate Sandwich Cookies        61   \n",
       "4           0           1  Chocolate Sandwich Cookies        61   \n",
       "\n",
       "   department_id  prices  order_id user_id eval_set  order_number  ...  \\\n",
       "0             19     5.8        65       9    prior            16  ...   \n",
       "1             19     5.8      -103       9    prior             2  ...   \n",
       "2             19     5.8       113       9    prior             4  ...   \n",
       "3             19     5.8       -67       9    prior             6  ...   \n",
       "4             19     5.8       -12       9    prior             7  ...   \n",
       "\n",
       "   first_name  Surnam  gender                 state  age date_joined  \\\n",
       "0      Nicole  Conrad    Male  District of Columbia   79   1/16/2020   \n",
       "1      Nicole  Conrad    Male  District of Columbia   79   1/16/2020   \n",
       "2      Nicole  Conrad    Male  District of Columbia   79   1/16/2020   \n",
       "3      Nicole  Conrad    Male  District of Columbia   79   1/16/2020   \n",
       "4      Nicole  Conrad    Male  District of Columbia   79   1/16/2020   \n",
       "\n",
       "  #_dependants marital_status  income #_depndants  \n",
       "0            3        married  154743           3  \n",
       "1            3        married  154743           3  \n",
       "2            3        married  154743           3  \n",
       "3            3        married  154743           3  \n",
       "4            3        married  154743           3  \n",
       "\n",
       "[5 rows x 36 columns]"
      ]
     },
     "execution_count": 6,
     "metadata": {},
     "output_type": "execute_result"
    }
   ],
   "source": [
    "full_data.head()"
   ]
  },
  {
   "cell_type": "code",
   "execution_count": 7,
   "id": "143a30c4",
   "metadata": {},
   "outputs": [
    {
     "name": "stdout",
     "output_type": "stream",
     "text": [
      "<class 'pandas.core.frame.DataFrame'>\n",
      "Int64Index: 16153014 entries, 0 to 16153013\n",
      "Data columns (total 36 columns):\n",
      " #   Column                  Dtype   \n",
      "---  ------                  -----   \n",
      " 0   Unnamed: 0              int32   \n",
      " 1   product_id              int32   \n",
      " 2   product_name            object  \n",
      " 3   aisle_id                int32   \n",
      " 4   department_id           int32   \n",
      " 5   prices                  float64 \n",
      " 6   order_id                int8    \n",
      " 7   user_id                 object  \n",
      " 8   eval_set                object  \n",
      " 9   order_number            int8    \n",
      " 10  orders_day_of_week      int8    \n",
      " 11  order_time_of_day       int8    \n",
      " 12  days_since_prior_order  float64 \n",
      " 13  add_to_cart_order       int32   \n",
      " 14  reordered               int32   \n",
      " 15  _merge                  category\n",
      " 16  busiest_day             object  \n",
      " 17  busiest days            object  \n",
      " 18  busiest_days            object  \n",
      " 19  busiest_period_of_day   object  \n",
      " 20  max_order               int8    \n",
      " 21  loyalty_flag            object  \n",
      " 22  average_spending        float64 \n",
      " 23  spending_flag           object  \n",
      " 24  purchase_frequency      float64 \n",
      " 25  frequency_flag          object  \n",
      " 26  first_name              object  \n",
      " 27  Surnam                  object  \n",
      " 28  gender                  object  \n",
      " 29  state                   object  \n",
      " 30  age                     int8    \n",
      " 31  date_joined             object  \n",
      " 32  #_dependants            int64   \n",
      " 33  marital_status          object  \n",
      " 34  income                  int32   \n",
      " 35  #_depndants             int8    \n",
      "dtypes: category(1), float64(4), int32(7), int64(1), int8(7), object(16)\n",
      "memory usage: 3.2+ GB\n"
     ]
    }
   ],
   "source": [
    "full_data.info()"
   ]
  },
  {
   "cell_type": "code",
   "execution_count": 8,
   "id": "245b17b3",
   "metadata": {},
   "outputs": [],
   "source": [
    "full_data['product_id'] = full_data['product_id'].astype('int8')"
   ]
  },
  {
   "cell_type": "code",
   "execution_count": 9,
   "id": "43af0bc5",
   "metadata": {},
   "outputs": [],
   "source": [
    "full_data['aisle_id'] = full_data['aisle_id'].astype('int8')"
   ]
  },
  {
   "cell_type": "code",
   "execution_count": 10,
   "id": "7202683f",
   "metadata": {},
   "outputs": [],
   "source": [
    "full_data['add_to_cart_order'] = full_data['add_to_cart_order'].astype('int8')"
   ]
  },
  {
   "cell_type": "code",
   "execution_count": 11,
   "id": "4372e068",
   "metadata": {},
   "outputs": [],
   "source": [
    "full_data['reordered'] = full_data['reordered'].astype('int8')"
   ]
  },
  {
   "cell_type": "code",
   "execution_count": 12,
   "id": "98487795",
   "metadata": {},
   "outputs": [],
   "source": [
    "full_data['#_dependants'] = full_data['#_dependants'].astype('int32')"
   ]
  },
  {
   "cell_type": "code",
   "execution_count": 13,
   "id": "a8131c72",
   "metadata": {},
   "outputs": [],
   "source": [
    "full_data['income'] = full_data['income'].astype('int8')"
   ]
  },
  {
   "cell_type": "code",
   "execution_count": 14,
   "id": "bd75b1b3",
   "metadata": {},
   "outputs": [],
   "source": [
    "df_dep = pd.read_csv(os.path.join(r'C:\\Users\\Saskia\\Desktop\\new\\02 Data\\Original Data\\departments.csv'), index_col=False)"
   ]
  },
  {
   "cell_type": "code",
   "execution_count": 15,
   "id": "0f91199a",
   "metadata": {},
   "outputs": [
    {
     "data": {
      "text/plain": [
       "(1, 22)"
      ]
     },
     "execution_count": 15,
     "metadata": {},
     "output_type": "execute_result"
    }
   ],
   "source": [
    "df_dep.shape"
   ]
  },
  {
   "cell_type": "code",
   "execution_count": 16,
   "id": "86e292ca",
   "metadata": {},
   "outputs": [
    {
     "name": "stdout",
     "output_type": "stream",
     "text": [
      "<class 'pandas.core.frame.DataFrame'>\n",
      "RangeIndex: 1 entries, 0 to 0\n",
      "Data columns (total 22 columns):\n",
      " #   Column         Non-Null Count  Dtype \n",
      "---  ------         --------------  ----- \n",
      " 0   department_id  1 non-null      object\n",
      " 1   1              1 non-null      object\n",
      " 2   2              1 non-null      object\n",
      " 3   3              1 non-null      object\n",
      " 4   4              1 non-null      object\n",
      " 5   5              1 non-null      object\n",
      " 6   6              1 non-null      object\n",
      " 7   7              1 non-null      object\n",
      " 8   8              1 non-null      object\n",
      " 9   9              1 non-null      object\n",
      " 10  10             1 non-null      object\n",
      " 11  11             1 non-null      object\n",
      " 12  12             1 non-null      object\n",
      " 13  13             1 non-null      object\n",
      " 14  14             1 non-null      object\n",
      " 15  15             1 non-null      object\n",
      " 16  16             1 non-null      object\n",
      " 17  17             1 non-null      object\n",
      " 18  18             1 non-null      object\n",
      " 19  19             1 non-null      object\n",
      " 20  20             1 non-null      object\n",
      " 21  21             1 non-null      object\n",
      "dtypes: object(22)\n",
      "memory usage: 304.0+ bytes\n"
     ]
    }
   ],
   "source": [
    "df_dep.info()"
   ]
  },
  {
   "cell_type": "code",
   "execution_count": 17,
   "id": "71736a8e",
   "metadata": {},
   "outputs": [
    {
     "data": {
      "text/html": [
       "<div>\n",
       "<style scoped>\n",
       "    .dataframe tbody tr th:only-of-type {\n",
       "        vertical-align: middle;\n",
       "    }\n",
       "\n",
       "    .dataframe tbody tr th {\n",
       "        vertical-align: top;\n",
       "    }\n",
       "\n",
       "    .dataframe thead th {\n",
       "        text-align: right;\n",
       "    }\n",
       "</style>\n",
       "<table border=\"1\" class=\"dataframe\">\n",
       "  <thead>\n",
       "    <tr style=\"text-align: right;\">\n",
       "      <th></th>\n",
       "      <th>department_id</th>\n",
       "      <th>1</th>\n",
       "      <th>2</th>\n",
       "      <th>3</th>\n",
       "      <th>4</th>\n",
       "      <th>5</th>\n",
       "      <th>6</th>\n",
       "      <th>7</th>\n",
       "      <th>8</th>\n",
       "      <th>9</th>\n",
       "      <th>...</th>\n",
       "      <th>12</th>\n",
       "      <th>13</th>\n",
       "      <th>14</th>\n",
       "      <th>15</th>\n",
       "      <th>16</th>\n",
       "      <th>17</th>\n",
       "      <th>18</th>\n",
       "      <th>19</th>\n",
       "      <th>20</th>\n",
       "      <th>21</th>\n",
       "    </tr>\n",
       "  </thead>\n",
       "  <tbody>\n",
       "    <tr>\n",
       "      <th>0</th>\n",
       "      <td>department</td>\n",
       "      <td>frozen</td>\n",
       "      <td>other</td>\n",
       "      <td>bakery</td>\n",
       "      <td>produce</td>\n",
       "      <td>alcohol</td>\n",
       "      <td>international</td>\n",
       "      <td>beverages</td>\n",
       "      <td>pets</td>\n",
       "      <td>dry goods pasta</td>\n",
       "      <td>...</td>\n",
       "      <td>meat seafood</td>\n",
       "      <td>pantry</td>\n",
       "      <td>breakfast</td>\n",
       "      <td>canned goods</td>\n",
       "      <td>dairy eggs</td>\n",
       "      <td>household</td>\n",
       "      <td>babies</td>\n",
       "      <td>snacks</td>\n",
       "      <td>deli</td>\n",
       "      <td>missing</td>\n",
       "    </tr>\n",
       "  </tbody>\n",
       "</table>\n",
       "<p>1 rows × 22 columns</p>\n",
       "</div>"
      ],
      "text/plain": [
       "  department_id       1      2       3        4        5              6  \\\n",
       "0    department  frozen  other  bakery  produce  alcohol  international   \n",
       "\n",
       "           7     8                9  ...            12      13         14  \\\n",
       "0  beverages  pets  dry goods pasta  ...  meat seafood  pantry  breakfast   \n",
       "\n",
       "             15          16         17      18      19    20       21  \n",
       "0  canned goods  dairy eggs  household  babies  snacks  deli  missing  \n",
       "\n",
       "[1 rows x 22 columns]"
      ]
     },
     "execution_count": 17,
     "metadata": {},
     "output_type": "execute_result"
    }
   ],
   "source": [
    "df_dep.head()"
   ]
  },
  {
   "cell_type": "code",
   "execution_count": 18,
   "id": "b3a3be5b",
   "metadata": {},
   "outputs": [
    {
     "data": {
      "text/plain": [
       "Index(['department_id', '1', '2', '3', '4', '5', '6', '7', '8', '9', '10',\n",
       "       '11', '12', '13', '14', '15', '16', '17', '18', '19', '20', '21'],\n",
       "      dtype='object')"
      ]
     },
     "execution_count": 18,
     "metadata": {},
     "output_type": "execute_result"
    }
   ],
   "source": [
    "df_dep.columns"
   ]
  },
  {
   "cell_type": "code",
   "execution_count": 19,
   "id": "df58156a",
   "metadata": {},
   "outputs": [
    {
     "data": {
      "text/html": [
       "<div>\n",
       "<style scoped>\n",
       "    .dataframe tbody tr th:only-of-type {\n",
       "        vertical-align: middle;\n",
       "    }\n",
       "\n",
       "    .dataframe tbody tr th {\n",
       "        vertical-align: top;\n",
       "    }\n",
       "\n",
       "    .dataframe thead th {\n",
       "        text-align: right;\n",
       "    }\n",
       "</style>\n",
       "<table border=\"1\" class=\"dataframe\">\n",
       "  <thead>\n",
       "    <tr style=\"text-align: right;\">\n",
       "      <th></th>\n",
       "      <th>0</th>\n",
       "    </tr>\n",
       "  </thead>\n",
       "  <tbody>\n",
       "    <tr>\n",
       "      <th>department_id</th>\n",
       "      <td>department</td>\n",
       "    </tr>\n",
       "    <tr>\n",
       "      <th>1</th>\n",
       "      <td>frozen</td>\n",
       "    </tr>\n",
       "    <tr>\n",
       "      <th>2</th>\n",
       "      <td>other</td>\n",
       "    </tr>\n",
       "    <tr>\n",
       "      <th>3</th>\n",
       "      <td>bakery</td>\n",
       "    </tr>\n",
       "    <tr>\n",
       "      <th>4</th>\n",
       "      <td>produce</td>\n",
       "    </tr>\n",
       "    <tr>\n",
       "      <th>5</th>\n",
       "      <td>alcohol</td>\n",
       "    </tr>\n",
       "    <tr>\n",
       "      <th>6</th>\n",
       "      <td>international</td>\n",
       "    </tr>\n",
       "    <tr>\n",
       "      <th>7</th>\n",
       "      <td>beverages</td>\n",
       "    </tr>\n",
       "    <tr>\n",
       "      <th>8</th>\n",
       "      <td>pets</td>\n",
       "    </tr>\n",
       "    <tr>\n",
       "      <th>9</th>\n",
       "      <td>dry goods pasta</td>\n",
       "    </tr>\n",
       "    <tr>\n",
       "      <th>10</th>\n",
       "      <td>bulk</td>\n",
       "    </tr>\n",
       "    <tr>\n",
       "      <th>11</th>\n",
       "      <td>personal care</td>\n",
       "    </tr>\n",
       "    <tr>\n",
       "      <th>12</th>\n",
       "      <td>meat seafood</td>\n",
       "    </tr>\n",
       "    <tr>\n",
       "      <th>13</th>\n",
       "      <td>pantry</td>\n",
       "    </tr>\n",
       "    <tr>\n",
       "      <th>14</th>\n",
       "      <td>breakfast</td>\n",
       "    </tr>\n",
       "    <tr>\n",
       "      <th>15</th>\n",
       "      <td>canned goods</td>\n",
       "    </tr>\n",
       "    <tr>\n",
       "      <th>16</th>\n",
       "      <td>dairy eggs</td>\n",
       "    </tr>\n",
       "    <tr>\n",
       "      <th>17</th>\n",
       "      <td>household</td>\n",
       "    </tr>\n",
       "    <tr>\n",
       "      <th>18</th>\n",
       "      <td>babies</td>\n",
       "    </tr>\n",
       "    <tr>\n",
       "      <th>19</th>\n",
       "      <td>snacks</td>\n",
       "    </tr>\n",
       "    <tr>\n",
       "      <th>20</th>\n",
       "      <td>deli</td>\n",
       "    </tr>\n",
       "    <tr>\n",
       "      <th>21</th>\n",
       "      <td>missing</td>\n",
       "    </tr>\n",
       "  </tbody>\n",
       "</table>\n",
       "</div>"
      ],
      "text/plain": [
       "                             0\n",
       "department_id       department\n",
       "1                       frozen\n",
       "2                        other\n",
       "3                       bakery\n",
       "4                      produce\n",
       "5                      alcohol\n",
       "6                international\n",
       "7                    beverages\n",
       "8                         pets\n",
       "9              dry goods pasta\n",
       "10                        bulk\n",
       "11               personal care\n",
       "12                meat seafood\n",
       "13                      pantry\n",
       "14                   breakfast\n",
       "15                canned goods\n",
       "16                  dairy eggs\n",
       "17                   household\n",
       "18                      babies\n",
       "19                      snacks\n",
       "20                        deli\n",
       "21                     missing"
      ]
     },
     "execution_count": 19,
     "metadata": {},
     "output_type": "execute_result"
    }
   ],
   "source": [
    "df_dep.T"
   ]
  },
  {
   "cell_type": "code",
   "execution_count": 20,
   "id": "2911ddd7",
   "metadata": {},
   "outputs": [],
   "source": [
    "df_dep_t = df_dep.T"
   ]
  },
  {
   "cell_type": "code",
   "execution_count": 21,
   "id": "8657eaf0",
   "metadata": {},
   "outputs": [
    {
     "data": {
      "text/html": [
       "<div>\n",
       "<style scoped>\n",
       "    .dataframe tbody tr th:only-of-type {\n",
       "        vertical-align: middle;\n",
       "    }\n",
       "\n",
       "    .dataframe tbody tr th {\n",
       "        vertical-align: top;\n",
       "    }\n",
       "\n",
       "    .dataframe thead th {\n",
       "        text-align: right;\n",
       "    }\n",
       "</style>\n",
       "<table border=\"1\" class=\"dataframe\">\n",
       "  <thead>\n",
       "    <tr style=\"text-align: right;\">\n",
       "      <th></th>\n",
       "      <th>index</th>\n",
       "      <th>0</th>\n",
       "    </tr>\n",
       "  </thead>\n",
       "  <tbody>\n",
       "    <tr>\n",
       "      <th>0</th>\n",
       "      <td>department_id</td>\n",
       "      <td>department</td>\n",
       "    </tr>\n",
       "    <tr>\n",
       "      <th>1</th>\n",
       "      <td>1</td>\n",
       "      <td>frozen</td>\n",
       "    </tr>\n",
       "    <tr>\n",
       "      <th>2</th>\n",
       "      <td>2</td>\n",
       "      <td>other</td>\n",
       "    </tr>\n",
       "    <tr>\n",
       "      <th>3</th>\n",
       "      <td>3</td>\n",
       "      <td>bakery</td>\n",
       "    </tr>\n",
       "    <tr>\n",
       "      <th>4</th>\n",
       "      <td>4</td>\n",
       "      <td>produce</td>\n",
       "    </tr>\n",
       "    <tr>\n",
       "      <th>5</th>\n",
       "      <td>5</td>\n",
       "      <td>alcohol</td>\n",
       "    </tr>\n",
       "    <tr>\n",
       "      <th>6</th>\n",
       "      <td>6</td>\n",
       "      <td>international</td>\n",
       "    </tr>\n",
       "    <tr>\n",
       "      <th>7</th>\n",
       "      <td>7</td>\n",
       "      <td>beverages</td>\n",
       "    </tr>\n",
       "    <tr>\n",
       "      <th>8</th>\n",
       "      <td>8</td>\n",
       "      <td>pets</td>\n",
       "    </tr>\n",
       "    <tr>\n",
       "      <th>9</th>\n",
       "      <td>9</td>\n",
       "      <td>dry goods pasta</td>\n",
       "    </tr>\n",
       "    <tr>\n",
       "      <th>10</th>\n",
       "      <td>10</td>\n",
       "      <td>bulk</td>\n",
       "    </tr>\n",
       "    <tr>\n",
       "      <th>11</th>\n",
       "      <td>11</td>\n",
       "      <td>personal care</td>\n",
       "    </tr>\n",
       "    <tr>\n",
       "      <th>12</th>\n",
       "      <td>12</td>\n",
       "      <td>meat seafood</td>\n",
       "    </tr>\n",
       "    <tr>\n",
       "      <th>13</th>\n",
       "      <td>13</td>\n",
       "      <td>pantry</td>\n",
       "    </tr>\n",
       "    <tr>\n",
       "      <th>14</th>\n",
       "      <td>14</td>\n",
       "      <td>breakfast</td>\n",
       "    </tr>\n",
       "    <tr>\n",
       "      <th>15</th>\n",
       "      <td>15</td>\n",
       "      <td>canned goods</td>\n",
       "    </tr>\n",
       "    <tr>\n",
       "      <th>16</th>\n",
       "      <td>16</td>\n",
       "      <td>dairy eggs</td>\n",
       "    </tr>\n",
       "    <tr>\n",
       "      <th>17</th>\n",
       "      <td>17</td>\n",
       "      <td>household</td>\n",
       "    </tr>\n",
       "    <tr>\n",
       "      <th>18</th>\n",
       "      <td>18</td>\n",
       "      <td>babies</td>\n",
       "    </tr>\n",
       "    <tr>\n",
       "      <th>19</th>\n",
       "      <td>19</td>\n",
       "      <td>snacks</td>\n",
       "    </tr>\n",
       "    <tr>\n",
       "      <th>20</th>\n",
       "      <td>20</td>\n",
       "      <td>deli</td>\n",
       "    </tr>\n",
       "    <tr>\n",
       "      <th>21</th>\n",
       "      <td>21</td>\n",
       "      <td>missing</td>\n",
       "    </tr>\n",
       "  </tbody>\n",
       "</table>\n",
       "</div>"
      ],
      "text/plain": [
       "            index                0\n",
       "0   department_id       department\n",
       "1               1           frozen\n",
       "2               2            other\n",
       "3               3           bakery\n",
       "4               4          produce\n",
       "5               5          alcohol\n",
       "6               6    international\n",
       "7               7        beverages\n",
       "8               8             pets\n",
       "9               9  dry goods pasta\n",
       "10             10             bulk\n",
       "11             11    personal care\n",
       "12             12     meat seafood\n",
       "13             13           pantry\n",
       "14             14        breakfast\n",
       "15             15     canned goods\n",
       "16             16       dairy eggs\n",
       "17             17        household\n",
       "18             18           babies\n",
       "19             19           snacks\n",
       "20             20             deli\n",
       "21             21          missing"
      ]
     },
     "execution_count": 21,
     "metadata": {},
     "output_type": "execute_result"
    }
   ],
   "source": [
    "df_dep_t.reset_index()"
   ]
  },
  {
   "cell_type": "code",
   "execution_count": 22,
   "id": "c9184130",
   "metadata": {},
   "outputs": [],
   "source": [
    "new_header = df_dep_t.iloc[0]"
   ]
  },
  {
   "cell_type": "code",
   "execution_count": 23,
   "id": "2d684358",
   "metadata": {},
   "outputs": [
    {
     "data": {
      "text/plain": [
       "0    department\n",
       "Name: department_id, dtype: object"
      ]
     },
     "execution_count": 23,
     "metadata": {},
     "output_type": "execute_result"
    }
   ],
   "source": [
    "new_header"
   ]
  },
  {
   "cell_type": "code",
   "execution_count": 24,
   "id": "b4d0135b",
   "metadata": {},
   "outputs": [],
   "source": [
    "df_dep_t_new = df_dep_t[1:]"
   ]
  },
  {
   "cell_type": "code",
   "execution_count": 25,
   "id": "15e1db41",
   "metadata": {},
   "outputs": [
    {
     "data": {
      "text/html": [
       "<div>\n",
       "<style scoped>\n",
       "    .dataframe tbody tr th:only-of-type {\n",
       "        vertical-align: middle;\n",
       "    }\n",
       "\n",
       "    .dataframe tbody tr th {\n",
       "        vertical-align: top;\n",
       "    }\n",
       "\n",
       "    .dataframe thead th {\n",
       "        text-align: right;\n",
       "    }\n",
       "</style>\n",
       "<table border=\"1\" class=\"dataframe\">\n",
       "  <thead>\n",
       "    <tr style=\"text-align: right;\">\n",
       "      <th></th>\n",
       "      <th>0</th>\n",
       "    </tr>\n",
       "  </thead>\n",
       "  <tbody>\n",
       "    <tr>\n",
       "      <th>1</th>\n",
       "      <td>frozen</td>\n",
       "    </tr>\n",
       "    <tr>\n",
       "      <th>2</th>\n",
       "      <td>other</td>\n",
       "    </tr>\n",
       "    <tr>\n",
       "      <th>3</th>\n",
       "      <td>bakery</td>\n",
       "    </tr>\n",
       "    <tr>\n",
       "      <th>4</th>\n",
       "      <td>produce</td>\n",
       "    </tr>\n",
       "    <tr>\n",
       "      <th>5</th>\n",
       "      <td>alcohol</td>\n",
       "    </tr>\n",
       "    <tr>\n",
       "      <th>6</th>\n",
       "      <td>international</td>\n",
       "    </tr>\n",
       "    <tr>\n",
       "      <th>7</th>\n",
       "      <td>beverages</td>\n",
       "    </tr>\n",
       "    <tr>\n",
       "      <th>8</th>\n",
       "      <td>pets</td>\n",
       "    </tr>\n",
       "    <tr>\n",
       "      <th>9</th>\n",
       "      <td>dry goods pasta</td>\n",
       "    </tr>\n",
       "    <tr>\n",
       "      <th>10</th>\n",
       "      <td>bulk</td>\n",
       "    </tr>\n",
       "    <tr>\n",
       "      <th>11</th>\n",
       "      <td>personal care</td>\n",
       "    </tr>\n",
       "    <tr>\n",
       "      <th>12</th>\n",
       "      <td>meat seafood</td>\n",
       "    </tr>\n",
       "    <tr>\n",
       "      <th>13</th>\n",
       "      <td>pantry</td>\n",
       "    </tr>\n",
       "    <tr>\n",
       "      <th>14</th>\n",
       "      <td>breakfast</td>\n",
       "    </tr>\n",
       "    <tr>\n",
       "      <th>15</th>\n",
       "      <td>canned goods</td>\n",
       "    </tr>\n",
       "    <tr>\n",
       "      <th>16</th>\n",
       "      <td>dairy eggs</td>\n",
       "    </tr>\n",
       "    <tr>\n",
       "      <th>17</th>\n",
       "      <td>household</td>\n",
       "    </tr>\n",
       "    <tr>\n",
       "      <th>18</th>\n",
       "      <td>babies</td>\n",
       "    </tr>\n",
       "    <tr>\n",
       "      <th>19</th>\n",
       "      <td>snacks</td>\n",
       "    </tr>\n",
       "    <tr>\n",
       "      <th>20</th>\n",
       "      <td>deli</td>\n",
       "    </tr>\n",
       "    <tr>\n",
       "      <th>21</th>\n",
       "      <td>missing</td>\n",
       "    </tr>\n",
       "  </tbody>\n",
       "</table>\n",
       "</div>"
      ],
      "text/plain": [
       "                  0\n",
       "1            frozen\n",
       "2             other\n",
       "3            bakery\n",
       "4           produce\n",
       "5           alcohol\n",
       "6     international\n",
       "7         beverages\n",
       "8              pets\n",
       "9   dry goods pasta\n",
       "10             bulk\n",
       "11    personal care\n",
       "12     meat seafood\n",
       "13           pantry\n",
       "14        breakfast\n",
       "15     canned goods\n",
       "16       dairy eggs\n",
       "17        household\n",
       "18           babies\n",
       "19           snacks\n",
       "20             deli\n",
       "21          missing"
      ]
     },
     "execution_count": 25,
     "metadata": {},
     "output_type": "execute_result"
    }
   ],
   "source": [
    "df_dep_t_new"
   ]
  },
  {
   "cell_type": "code",
   "execution_count": 26,
   "id": "7df04450",
   "metadata": {},
   "outputs": [],
   "source": [
    "df_dep_t_new.columns = new_header"
   ]
  },
  {
   "cell_type": "code",
   "execution_count": 27,
   "id": "afb3188b",
   "metadata": {},
   "outputs": [
    {
     "data": {
      "text/html": [
       "<div>\n",
       "<style scoped>\n",
       "    .dataframe tbody tr th:only-of-type {\n",
       "        vertical-align: middle;\n",
       "    }\n",
       "\n",
       "    .dataframe tbody tr th {\n",
       "        vertical-align: top;\n",
       "    }\n",
       "\n",
       "    .dataframe thead th {\n",
       "        text-align: right;\n",
       "    }\n",
       "</style>\n",
       "<table border=\"1\" class=\"dataframe\">\n",
       "  <thead>\n",
       "    <tr style=\"text-align: right;\">\n",
       "      <th>department_id</th>\n",
       "      <th>department</th>\n",
       "    </tr>\n",
       "  </thead>\n",
       "  <tbody>\n",
       "    <tr>\n",
       "      <th>1</th>\n",
       "      <td>frozen</td>\n",
       "    </tr>\n",
       "    <tr>\n",
       "      <th>2</th>\n",
       "      <td>other</td>\n",
       "    </tr>\n",
       "    <tr>\n",
       "      <th>3</th>\n",
       "      <td>bakery</td>\n",
       "    </tr>\n",
       "    <tr>\n",
       "      <th>4</th>\n",
       "      <td>produce</td>\n",
       "    </tr>\n",
       "    <tr>\n",
       "      <th>5</th>\n",
       "      <td>alcohol</td>\n",
       "    </tr>\n",
       "    <tr>\n",
       "      <th>6</th>\n",
       "      <td>international</td>\n",
       "    </tr>\n",
       "    <tr>\n",
       "      <th>7</th>\n",
       "      <td>beverages</td>\n",
       "    </tr>\n",
       "    <tr>\n",
       "      <th>8</th>\n",
       "      <td>pets</td>\n",
       "    </tr>\n",
       "    <tr>\n",
       "      <th>9</th>\n",
       "      <td>dry goods pasta</td>\n",
       "    </tr>\n",
       "    <tr>\n",
       "      <th>10</th>\n",
       "      <td>bulk</td>\n",
       "    </tr>\n",
       "    <tr>\n",
       "      <th>11</th>\n",
       "      <td>personal care</td>\n",
       "    </tr>\n",
       "    <tr>\n",
       "      <th>12</th>\n",
       "      <td>meat seafood</td>\n",
       "    </tr>\n",
       "    <tr>\n",
       "      <th>13</th>\n",
       "      <td>pantry</td>\n",
       "    </tr>\n",
       "    <tr>\n",
       "      <th>14</th>\n",
       "      <td>breakfast</td>\n",
       "    </tr>\n",
       "    <tr>\n",
       "      <th>15</th>\n",
       "      <td>canned goods</td>\n",
       "    </tr>\n",
       "    <tr>\n",
       "      <th>16</th>\n",
       "      <td>dairy eggs</td>\n",
       "    </tr>\n",
       "    <tr>\n",
       "      <th>17</th>\n",
       "      <td>household</td>\n",
       "    </tr>\n",
       "    <tr>\n",
       "      <th>18</th>\n",
       "      <td>babies</td>\n",
       "    </tr>\n",
       "    <tr>\n",
       "      <th>19</th>\n",
       "      <td>snacks</td>\n",
       "    </tr>\n",
       "    <tr>\n",
       "      <th>20</th>\n",
       "      <td>deli</td>\n",
       "    </tr>\n",
       "    <tr>\n",
       "      <th>21</th>\n",
       "      <td>missing</td>\n",
       "    </tr>\n",
       "  </tbody>\n",
       "</table>\n",
       "</div>"
      ],
      "text/plain": [
       "department_id       department\n",
       "1                       frozen\n",
       "2                        other\n",
       "3                       bakery\n",
       "4                      produce\n",
       "5                      alcohol\n",
       "6                international\n",
       "7                    beverages\n",
       "8                         pets\n",
       "9              dry goods pasta\n",
       "10                        bulk\n",
       "11               personal care\n",
       "12                meat seafood\n",
       "13                      pantry\n",
       "14                   breakfast\n",
       "15                canned goods\n",
       "16                  dairy eggs\n",
       "17                   household\n",
       "18                      babies\n",
       "19                      snacks\n",
       "20                        deli\n",
       "21                     missing"
      ]
     },
     "execution_count": 27,
     "metadata": {},
     "output_type": "execute_result"
    }
   ],
   "source": [
    "df_dep_t_new"
   ]
  },
  {
   "cell_type": "code",
   "execution_count": 28,
   "id": "df39cd43",
   "metadata": {},
   "outputs": [
    {
     "data": {
      "text/html": [
       "<div>\n",
       "<style scoped>\n",
       "    .dataframe tbody tr th:only-of-type {\n",
       "        vertical-align: middle;\n",
       "    }\n",
       "\n",
       "    .dataframe tbody tr th {\n",
       "        vertical-align: top;\n",
       "    }\n",
       "\n",
       "    .dataframe thead th {\n",
       "        text-align: right;\n",
       "    }\n",
       "</style>\n",
       "<table border=\"1\" class=\"dataframe\">\n",
       "  <thead>\n",
       "    <tr style=\"text-align: right;\">\n",
       "      <th>department_id</th>\n",
       "      <th>department</th>\n",
       "    </tr>\n",
       "  </thead>\n",
       "  <tbody>\n",
       "    <tr>\n",
       "      <th>1</th>\n",
       "      <td>frozen</td>\n",
       "    </tr>\n",
       "    <tr>\n",
       "      <th>2</th>\n",
       "      <td>other</td>\n",
       "    </tr>\n",
       "    <tr>\n",
       "      <th>3</th>\n",
       "      <td>bakery</td>\n",
       "    </tr>\n",
       "    <tr>\n",
       "      <th>4</th>\n",
       "      <td>produce</td>\n",
       "    </tr>\n",
       "    <tr>\n",
       "      <th>5</th>\n",
       "      <td>alcohol</td>\n",
       "    </tr>\n",
       "  </tbody>\n",
       "</table>\n",
       "</div>"
      ],
      "text/plain": [
       "department_id department\n",
       "1                 frozen\n",
       "2                  other\n",
       "3                 bakery\n",
       "4                produce\n",
       "5                alcohol"
      ]
     },
     "execution_count": 28,
     "metadata": {},
     "output_type": "execute_result"
    }
   ],
   "source": [
    "df_dep_t_new.head()"
   ]
  },
  {
   "cell_type": "code",
   "execution_count": 29,
   "id": "dd0226f3",
   "metadata": {},
   "outputs": [
    {
     "name": "stdout",
     "output_type": "stream",
     "text": [
      "<class 'pandas.core.frame.DataFrame'>\n",
      "Index: 21 entries, 1 to 21\n",
      "Data columns (total 1 columns):\n",
      " #   Column      Non-Null Count  Dtype \n",
      "---  ------      --------------  ----- \n",
      " 0   department  21 non-null     object\n",
      "dtypes: object(1)\n",
      "memory usage: 336.0+ bytes\n"
     ]
    }
   ],
   "source": [
    "df_dep_t_new.info()"
   ]
  },
  {
   "cell_type": "code",
   "execution_count": 30,
   "id": "22771162",
   "metadata": {},
   "outputs": [],
   "source": [
    "## Delete columns for memory saving"
   ]
  },
  {
   "cell_type": "code",
   "execution_count": 31,
   "id": "49a750cf",
   "metadata": {},
   "outputs": [],
   "source": [
    "full_data=full_data.drop(columns=['_merge', 'aisle_id'])"
   ]
  },
  {
   "cell_type": "code",
   "execution_count": 32,
   "id": "390b9304",
   "metadata": {},
   "outputs": [],
   "source": [
    "## Renaming a column"
   ]
  },
  {
   "cell_type": "code",
   "execution_count": 33,
   "id": "ae5064fc",
   "metadata": {},
   "outputs": [
    {
     "name": "stderr",
     "output_type": "stream",
     "text": [
      "C:\\Users\\Saskia\\AppData\\Local\\Temp\\ipykernel_12008\\286221367.py:1: SettingWithCopyWarning: \n",
      "A value is trying to be set on a copy of a slice from a DataFrame\n",
      "\n",
      "See the caveats in the documentation: https://pandas.pydata.org/pandas-docs/stable/user_guide/indexing.html#returning-a-view-versus-a-copy\n",
      "  df_dep_t_new.rename(columns={'unnamed: 0':'department_id'}, inplace=True)\n"
     ]
    }
   ],
   "source": [
    "df_dep_t_new.rename(columns={'unnamed: 0':'department_id'}, inplace=True)"
   ]
  },
  {
   "cell_type": "code",
   "execution_count": 34,
   "id": "677bec33",
   "metadata": {},
   "outputs": [],
   "source": [
    "full_data['department_id'] = full_data['department_id'].astype('str')"
   ]
  },
  {
   "cell_type": "code",
   "execution_count": 35,
   "id": "5a3e1383",
   "metadata": {},
   "outputs": [],
   "source": [
    "data_merged=full_data.merge(df_dep, on='department_id')"
   ]
  },
  {
   "cell_type": "code",
   "execution_count": 36,
   "id": "8b6474f4",
   "metadata": {},
   "outputs": [],
   "source": [
    "# Creating a list of Regions"
   ]
  },
  {
   "cell_type": "code",
   "execution_count": 37,
   "id": "f7c02129",
   "metadata": {},
   "outputs": [],
   "source": [
    "Northeast=['Maine','New Hampshire','Vermont','Massachusetts','Rhode Island','Connecticut','New York','Pennsylvania','New Jersey']"
   ]
  },
  {
   "cell_type": "code",
   "execution_count": 38,
   "id": "f6c08efb",
   "metadata": {},
   "outputs": [],
   "source": [
    "Midwest=['Wisconsin','Michigan','Illinois','Indiana','Ohio','North Dakota','South Dakota','Nebraska','Kansas','Minnesota','Iowa','Missouri']"
   ]
  },
  {
   "cell_type": "code",
   "execution_count": 39,
   "id": "3e038654",
   "metadata": {},
   "outputs": [],
   "source": [
    "South=['Delaware','Maryland','District of Columbia','Virginia','West Virginia','North Carolina','South Carolina','Georgia','Florida','Kentucky','Tennessee','Mississippi','Alabama','Oklahoma','Texas','Arkansas','Louisiana']"
   ]
  },
  {
   "cell_type": "code",
   "execution_count": 40,
   "id": "33e86ab7",
   "metadata": {},
   "outputs": [],
   "source": [
    "West=['Idaho','Montana','Wyoming','Nevada','Utah','Colorado','Arizona','New Mexico','Alaska','Washington','Oregon','California','Hawaii']"
   ]
  },
  {
   "cell_type": "code",
   "execution_count": 41,
   "id": "d976bf58",
   "metadata": {},
   "outputs": [],
   "source": [
    "## Regional Flags"
   ]
  },
  {
   "cell_type": "code",
   "execution_count": 44,
   "id": "4fec5931",
   "metadata": {},
   "outputs": [],
   "source": [
    "full_data.loc[full_data['state'].isin(Northeast), 'region'] = 'Northeast'"
   ]
  },
  {
   "cell_type": "code",
   "execution_count": 45,
   "id": "b19c6631",
   "metadata": {},
   "outputs": [],
   "source": [
    "full_data.loc[full_data['state'].isin(Midwest), 'region'] = 'Midwest'"
   ]
  },
  {
   "cell_type": "code",
   "execution_count": 46,
   "id": "025455f9",
   "metadata": {},
   "outputs": [],
   "source": [
    "full_data.loc[full_data['state'].isin(South), 'region'] = 'South'"
   ]
  },
  {
   "cell_type": "code",
   "execution_count": 47,
   "id": "bf452e84",
   "metadata": {},
   "outputs": [],
   "source": [
    "full_data.loc[full_data['state'].isin(West), 'region'] = 'West'"
   ]
  },
  {
   "cell_type": "code",
   "execution_count": 48,
   "id": "8c3eba7e",
   "metadata": {},
   "outputs": [
    {
     "data": {
      "text/plain": [
       "South        5352241\n",
       "West         4331720\n",
       "Midwest      3627924\n",
       "Northeast    2841129\n",
       "Name: region, dtype: int64"
      ]
     },
     "execution_count": 48,
     "metadata": {},
     "output_type": "execute_result"
    }
   ],
   "source": [
    "full_data['region'].value_counts(dropna=False)"
   ]
  },
  {
   "cell_type": "code",
   "execution_count": 50,
   "id": "e8860915",
   "metadata": {},
   "outputs": [],
   "source": [
    "crosstab=pd.crosstab(full_data['region'], full_data['spending_flag'], dropna=False)"
   ]
  },
  {
   "cell_type": "code",
   "execution_count": 51,
   "id": "b9dadf78",
   "metadata": {},
   "outputs": [
    {
     "data": {
      "text/html": [
       "<div>\n",
       "<style scoped>\n",
       "    .dataframe tbody tr th:only-of-type {\n",
       "        vertical-align: middle;\n",
       "    }\n",
       "\n",
       "    .dataframe tbody tr th {\n",
       "        vertical-align: top;\n",
       "    }\n",
       "\n",
       "    .dataframe thead th {\n",
       "        text-align: right;\n",
       "    }\n",
       "</style>\n",
       "<table border=\"1\" class=\"dataframe\">\n",
       "  <thead>\n",
       "    <tr style=\"text-align: right;\">\n",
       "      <th>spending_flag</th>\n",
       "      <th>high spender</th>\n",
       "      <th>low spender</th>\n",
       "    </tr>\n",
       "    <tr>\n",
       "      <th>region</th>\n",
       "      <th></th>\n",
       "      <th></th>\n",
       "    </tr>\n",
       "  </thead>\n",
       "  <tbody>\n",
       "    <tr>\n",
       "      <th>Midwest</th>\n",
       "      <td>2109578</td>\n",
       "      <td>1518346</td>\n",
       "    </tr>\n",
       "    <tr>\n",
       "      <th>Northeast</th>\n",
       "      <td>1166316</td>\n",
       "      <td>1674813</td>\n",
       "    </tr>\n",
       "    <tr>\n",
       "      <th>South</th>\n",
       "      <td>3577895</td>\n",
       "      <td>1774346</td>\n",
       "    </tr>\n",
       "    <tr>\n",
       "      <th>West</th>\n",
       "      <td>2780717</td>\n",
       "      <td>1551003</td>\n",
       "    </tr>\n",
       "  </tbody>\n",
       "</table>\n",
       "</div>"
      ],
      "text/plain": [
       "spending_flag  high spender  low spender\n",
       "region                                  \n",
       "Midwest             2109578      1518346\n",
       "Northeast           1166316      1674813\n",
       "South               3577895      1774346\n",
       "West                2780717      1551003"
      ]
     },
     "execution_count": 51,
     "metadata": {},
     "output_type": "execute_result"
    }
   ],
   "source": [
    "crosstab"
   ]
  },
  {
   "cell_type": "code",
   "execution_count": 52,
   "id": "e229eb43",
   "metadata": {},
   "outputs": [],
   "source": [
    "## number of states per region"
   ]
  },
  {
   "cell_type": "code",
   "execution_count": 53,
   "id": "6a40f33a",
   "metadata": {},
   "outputs": [
    {
     "data": {
      "text/plain": [
       "region\n",
       "Midwest      12\n",
       "Northeast     9\n",
       "South        17\n",
       "West         13\n",
       "Name: state, dtype: int64"
      ]
     },
     "execution_count": 53,
     "metadata": {},
     "output_type": "execute_result"
    }
   ],
   "source": [
    "full_data.groupby('region')['state'].nunique()"
   ]
  },
  {
   "cell_type": "code",
   "execution_count": 54,
   "id": "cdcfaf3c",
   "metadata": {},
   "outputs": [],
   "source": [
    "## There are more in the South having a correlation with High spenders and Low spenders."
   ]
  },
  {
   "cell_type": "code",
   "execution_count": 55,
   "id": "7bdd0235",
   "metadata": {},
   "outputs": [],
   "source": [
    "## ## Ordering habits"
   ]
  },
  {
   "cell_type": "code",
   "execution_count": 56,
   "id": "47385e0c",
   "metadata": {},
   "outputs": [
    {
     "data": {
      "text/html": [
       "<div>\n",
       "<style scoped>\n",
       "    .dataframe tbody tr th:only-of-type {\n",
       "        vertical-align: middle;\n",
       "    }\n",
       "\n",
       "    .dataframe tbody tr th {\n",
       "        vertical-align: top;\n",
       "    }\n",
       "\n",
       "    .dataframe thead tr th {\n",
       "        text-align: left;\n",
       "    }\n",
       "\n",
       "    .dataframe thead tr:last-of-type th {\n",
       "        text-align: right;\n",
       "    }\n",
       "</style>\n",
       "<table border=\"1\" class=\"dataframe\">\n",
       "  <thead>\n",
       "    <tr>\n",
       "      <th></th>\n",
       "      <th colspan=\"3\" halign=\"left\">prices</th>\n",
       "    </tr>\n",
       "    <tr>\n",
       "      <th></th>\n",
       "      <th>mean</th>\n",
       "      <th>min</th>\n",
       "      <th>max</th>\n",
       "    </tr>\n",
       "    <tr>\n",
       "      <th>region</th>\n",
       "      <th></th>\n",
       "      <th></th>\n",
       "      <th></th>\n",
       "    </tr>\n",
       "  </thead>\n",
       "  <tbody>\n",
       "    <tr>\n",
       "      <th>Midwest</th>\n",
       "      <td>11.939114</td>\n",
       "      <td>1.0</td>\n",
       "      <td>99999.0</td>\n",
       "    </tr>\n",
       "    <tr>\n",
       "      <th>Northeast</th>\n",
       "      <td>11.121539</td>\n",
       "      <td>1.0</td>\n",
       "      <td>99999.0</td>\n",
       "    </tr>\n",
       "    <tr>\n",
       "      <th>South</th>\n",
       "      <td>11.927669</td>\n",
       "      <td>1.0</td>\n",
       "      <td>99999.0</td>\n",
       "    </tr>\n",
       "    <tr>\n",
       "      <th>West</th>\n",
       "      <td>12.143713</td>\n",
       "      <td>1.0</td>\n",
       "      <td>99999.0</td>\n",
       "    </tr>\n",
       "  </tbody>\n",
       "</table>\n",
       "</div>"
      ],
      "text/plain": [
       "              prices              \n",
       "                mean  min      max\n",
       "region                            \n",
       "Midwest    11.939114  1.0  99999.0\n",
       "Northeast  11.121539  1.0  99999.0\n",
       "South      11.927669  1.0  99999.0\n",
       "West       12.143713  1.0  99999.0"
      ]
     },
     "execution_count": 56,
     "metadata": {},
     "output_type": "execute_result"
    }
   ],
   "source": [
    "full_data.groupby('region').agg({'prices': ['mean', 'min', 'max']})"
   ]
  },
  {
   "cell_type": "code",
   "execution_count": 57,
   "id": "a058636f",
   "metadata": {},
   "outputs": [],
   "source": [
    "## The South has most customers , followed by the West, Midwest and Northeast."
   ]
  },
  {
   "cell_type": "code",
   "execution_count": 58,
   "id": "c85df891",
   "metadata": {},
   "outputs": [],
   "source": [
    "## Flag for low activity customers"
   ]
  },
  {
   "cell_type": "code",
   "execution_count": 59,
   "id": "b2c2fba0",
   "metadata": {},
   "outputs": [],
   "source": [
    "## average price per customer"
   ]
  },
  {
   "cell_type": "code",
   "execution_count": 61,
   "id": "1c93d0b2",
   "metadata": {},
   "outputs": [
    {
     "data": {
      "text/html": [
       "<div>\n",
       "<style scoped>\n",
       "    .dataframe tbody tr th:only-of-type {\n",
       "        vertical-align: middle;\n",
       "    }\n",
       "\n",
       "    .dataframe tbody tr th {\n",
       "        vertical-align: top;\n",
       "    }\n",
       "\n",
       "    .dataframe thead tr th {\n",
       "        text-align: left;\n",
       "    }\n",
       "\n",
       "    .dataframe thead tr:last-of-type th {\n",
       "        text-align: right;\n",
       "    }\n",
       "</style>\n",
       "<table border=\"1\" class=\"dataframe\">\n",
       "  <thead>\n",
       "    <tr>\n",
       "      <th></th>\n",
       "      <th colspan=\"3\" halign=\"left\">product_id</th>\n",
       "    </tr>\n",
       "    <tr>\n",
       "      <th></th>\n",
       "      <th>mean</th>\n",
       "      <th>min</th>\n",
       "      <th>max</th>\n",
       "    </tr>\n",
       "    <tr>\n",
       "      <th>region</th>\n",
       "      <th></th>\n",
       "      <th></th>\n",
       "      <th></th>\n",
       "    </tr>\n",
       "  </thead>\n",
       "  <tbody>\n",
       "    <tr>\n",
       "      <th>Midwest</th>\n",
       "      <td>1.596019</td>\n",
       "      <td>-128</td>\n",
       "      <td>127</td>\n",
       "    </tr>\n",
       "    <tr>\n",
       "      <th>Northeast</th>\n",
       "      <td>1.604999</td>\n",
       "      <td>-128</td>\n",
       "      <td>127</td>\n",
       "    </tr>\n",
       "    <tr>\n",
       "      <th>South</th>\n",
       "      <td>1.406568</td>\n",
       "      <td>-128</td>\n",
       "      <td>127</td>\n",
       "    </tr>\n",
       "    <tr>\n",
       "      <th>West</th>\n",
       "      <td>1.459437</td>\n",
       "      <td>-128</td>\n",
       "      <td>127</td>\n",
       "    </tr>\n",
       "  </tbody>\n",
       "</table>\n",
       "</div>"
      ],
      "text/plain": [
       "          product_id          \n",
       "                mean  min  max\n",
       "region                        \n",
       "Midwest     1.596019 -128  127\n",
       "Northeast   1.604999 -128  127\n",
       "South       1.406568 -128  127\n",
       "West        1.459437 -128  127"
      ]
     },
     "execution_count": 61,
     "metadata": {},
     "output_type": "execute_result"
    }
   ],
   "source": [
    "full_data.groupby('region').agg({'product_id': ['mean', 'min', 'max']})"
   ]
  },
  {
   "cell_type": "code",
   "execution_count": 62,
   "id": "b2f2e8ad",
   "metadata": {},
   "outputs": [],
   "source": [
    "## Using crosstab to view customer loyalty "
   ]
  },
  {
   "cell_type": "code",
   "execution_count": 64,
   "id": "0fee42d7",
   "metadata": {},
   "outputs": [],
   "source": [
    "cross_customer=pd.crosstab(full_data['region'], full_data['loyalty_flag'], dropna=False)"
   ]
  },
  {
   "cell_type": "code",
   "execution_count": 65,
   "id": "3f54d981",
   "metadata": {},
   "outputs": [],
   "source": [
    "## Exclusion Flag"
   ]
  },
  {
   "cell_type": "code",
   "execution_count": 66,
   "id": "b42ffdbd",
   "metadata": {},
   "outputs": [],
   "source": [
    "full_data.loc[full_data['max_order'] < 5, 'exclusion_flag'] = 'Low activity customer'"
   ]
  },
  {
   "cell_type": "code",
   "execution_count": 69,
   "id": "58ea5b4a",
   "metadata": {},
   "outputs": [],
   "source": [
    "full_data.loc[full_data['max_order'] > 5, 'exclusion_flag'] = 'Normal activity customer'"
   ]
  },
  {
   "cell_type": "code",
   "execution_count": 70,
   "id": "2fd37e55",
   "metadata": {},
   "outputs": [
    {
     "data": {
      "text/plain": [
       "Normal activity customer    16153014\n",
       "Name: exclusion_flag, dtype: int64"
      ]
     },
     "execution_count": 70,
     "metadata": {},
     "output_type": "execute_result"
    }
   ],
   "source": [
    "full_data['exclusion_flag'].value_counts(dropna=False)"
   ]
  },
  {
   "cell_type": "code",
   "execution_count": 71,
   "id": "3fe8c086",
   "metadata": {},
   "outputs": [],
   "source": [
    "full_data_activity = full_data[full_data['exclusion_flag']=='Low activity customer']"
   ]
  },
  {
   "cell_type": "code",
   "execution_count": 72,
   "id": "afdfc653",
   "metadata": {},
   "outputs": [
    {
     "data": {
      "text/plain": [
       "(0, 36)"
      ]
     },
     "execution_count": 72,
     "metadata": {},
     "output_type": "execute_result"
    }
   ],
   "source": [
    "full_data_activity.shape"
   ]
  },
  {
   "cell_type": "code",
   "execution_count": 73,
   "id": "4e67781f",
   "metadata": {},
   "outputs": [],
   "source": [
    "full_data_activity_1 = full_data[full_data['exclusion_flag']=='Normal activity customer']"
   ]
  },
  {
   "cell_type": "code",
   "execution_count": 74,
   "id": "ea791834",
   "metadata": {},
   "outputs": [
    {
     "data": {
      "text/plain": [
       "(16153014, 36)"
      ]
     },
     "execution_count": 74,
     "metadata": {},
     "output_type": "execute_result"
    }
   ],
   "source": [
    "full_data_activity_1.shape"
   ]
  },
  {
   "cell_type": "code",
   "execution_count": 75,
   "id": "d5a988f7",
   "metadata": {},
   "outputs": [
    {
     "data": {
      "text/plain": [
       "Normal activity customer    16153014\n",
       "Name: exclusion_flag, dtype: int64"
      ]
     },
     "execution_count": 75,
     "metadata": {},
     "output_type": "execute_result"
    }
   ],
   "source": [
    "full_data_activity_1.exclusion_flag.value_counts()"
   ]
  },
  {
   "cell_type": "code",
   "execution_count": 76,
   "id": "22d4180b",
   "metadata": {},
   "outputs": [],
   "source": [
    "## checking for missing values"
   ]
  },
  {
   "cell_type": "code",
   "execution_count": 77,
   "id": "10d7a719",
   "metadata": {},
   "outputs": [
    {
     "data": {
      "text/plain": [
       "Normal activity customer    16153014\n",
       "Name: exclusion_flag, dtype: int64"
      ]
     },
     "execution_count": 77,
     "metadata": {},
     "output_type": "execute_result"
    }
   ],
   "source": [
    "full_data_activity_1['exclusion_flag'].value_counts(dropna=False)"
   ]
  },
  {
   "cell_type": "code",
   "execution_count": 78,
   "id": "d2ed27b9",
   "metadata": {},
   "outputs": [],
   "source": [
    "## Customer Profiles"
   ]
  },
  {
   "cell_type": "code",
   "execution_count": 79,
   "id": "93884b70",
   "metadata": {},
   "outputs": [],
   "source": [
    "## Customers into Age Group\n",
    "# Range 1 = Young Adult\n",
    "# Range 2 = Adult\n",
    "# Range 3 = Senior"
   ]
  },
  {
   "cell_type": "code",
   "execution_count": 81,
   "id": "617ba0d0",
   "metadata": {},
   "outputs": [],
   "source": [
    "full_data_activity_1.loc[(full_data_activity_1['age'] >= 18) & (full_data_activity_1['age'] <= 35), 'age_range']= '1'"
   ]
  },
  {
   "cell_type": "code",
   "execution_count": 82,
   "id": "d38d7058",
   "metadata": {},
   "outputs": [],
   "source": [
    "full_data_activity_1.loc[(full_data_activity_1['age'] > 35) & (full_data_activity_1['age'] <= 64), 'age_range']= '2'"
   ]
  },
  {
   "cell_type": "code",
   "execution_count": 83,
   "id": "4901961c",
   "metadata": {},
   "outputs": [],
   "source": [
    "full_data_activity_1.loc[(full_data_activity_1['age'] > 64), 'age_range']= '3'"
   ]
  },
  {
   "cell_type": "code",
   "execution_count": 85,
   "id": "93158d7b",
   "metadata": {},
   "outputs": [
    {
     "data": {
      "text/plain": [
       "2    7435354\n",
       "3    4633859\n",
       "1    4083801\n",
       "Name: age_range, dtype: int64"
      ]
     },
     "execution_count": 85,
     "metadata": {},
     "output_type": "execute_result"
    }
   ],
   "source": [
    "full_data_activity_1['age_range'].value_counts()"
   ]
  },
  {
   "cell_type": "code",
   "execution_count": 86,
   "id": "d45557d4",
   "metadata": {},
   "outputs": [],
   "source": [
    "## The most age of customers is between ages of 35 - 64"
   ]
  },
  {
   "cell_type": "code",
   "execution_count": 87,
   "id": "e075965b",
   "metadata": {},
   "outputs": [],
   "source": [
    "# Time of day"
   ]
  },
  {
   "cell_type": "code",
   "execution_count": 88,
   "id": "978f766e",
   "metadata": {},
   "outputs": [],
   "source": [
    "# 12:00 am - 05:59 am = early morning\n",
    "# 06:00 am - 11:59 am = morning\n",
    "# 12:00 pm - 04:59 pm = afternoon\n",
    "# 05:00 pm - 07:59 pm = evening\n",
    "# 08:00 pm - 11:59 pm = night"
   ]
  },
  {
   "cell_type": "code",
   "execution_count": 89,
   "id": "22c5743a",
   "metadata": {},
   "outputs": [],
   "source": [
    "full_data_orders = full_data.drop_duplicates(subset='order_id').copy()"
   ]
  },
  {
   "cell_type": "code",
   "execution_count": 90,
   "id": "f3b84c34",
   "metadata": {},
   "outputs": [
    {
     "data": {
      "text/plain": [
       "(256, 36)"
      ]
     },
     "execution_count": 90,
     "metadata": {},
     "output_type": "execute_result"
    }
   ],
   "source": [
    "full_data_orders.shape"
   ]
  },
  {
   "cell_type": "code",
   "execution_count": 94,
   "id": "a617ddb9",
   "metadata": {},
   "outputs": [],
   "source": [
    "full_data_orders.loc[(full_data_orders['order_time_of_day'] > 0) & (full_data_orders['order_time_of_day'] < 6), 'time_of_day']= 'early morning'"
   ]
  },
  {
   "cell_type": "code",
   "execution_count": 95,
   "id": "1d365baf",
   "metadata": {},
   "outputs": [],
   "source": [
    "full_data_orders.loc[(full_data_orders['order_time_of_day'] >= 6) & (full_data_orders['order_time_of_day'] < 12), 'time_of_day']= 'morning'"
   ]
  },
  {
   "cell_type": "code",
   "execution_count": 96,
   "id": "820a2e08",
   "metadata": {},
   "outputs": [],
   "source": [
    "full_data_orders.loc[(full_data_orders['order_time_of_day'] >=12) & (full_data_orders['order_time_of_day'] < 17), 'time_of_day']= 'afternoon'"
   ]
  },
  {
   "cell_type": "code",
   "execution_count": 97,
   "id": "e4211796",
   "metadata": {},
   "outputs": [],
   "source": [
    "full_data_orders.loc[(full_data_orders['order_time_of_day'] >=17) & (full_data_orders['order_time_of_day'] < 20), 'time_of_day']= 'evening'"
   ]
  },
  {
   "cell_type": "code",
   "execution_count": 98,
   "id": "8dfad80c",
   "metadata": {},
   "outputs": [],
   "source": [
    "full_data_orders.loc[(full_data_orders['order_time_of_day'] >=20) & (full_data_orders['order_time_of_day'] < 24), 'time_of_day']= 'night'"
   ]
  },
  {
   "cell_type": "code",
   "execution_count": 99,
   "id": "0f6fb81c",
   "metadata": {},
   "outputs": [
    {
     "data": {
      "text/plain": [
       "afternoon        102\n",
       "morning           87\n",
       "evening           31\n",
       "night             28\n",
       "early morning      6\n",
       "Name: time_of_day, dtype: int64"
      ]
     },
     "execution_count": 99,
     "metadata": {},
     "output_type": "execute_result"
    }
   ],
   "source": [
    "full_data_orders['time_of_day'].value_counts()"
   ]
  },
  {
   "cell_type": "code",
   "execution_count": 101,
   "id": "7c1dcd2d",
   "metadata": {},
   "outputs": [
    {
     "data": {
      "text/html": [
       "<div>\n",
       "<style scoped>\n",
       "    .dataframe tbody tr th:only-of-type {\n",
       "        vertical-align: middle;\n",
       "    }\n",
       "\n",
       "    .dataframe tbody tr th {\n",
       "        vertical-align: top;\n",
       "    }\n",
       "\n",
       "    .dataframe thead th {\n",
       "        text-align: right;\n",
       "    }\n",
       "</style>\n",
       "<table border=\"1\" class=\"dataframe\">\n",
       "  <thead>\n",
       "    <tr style=\"text-align: right;\">\n",
       "      <th></th>\n",
       "      <th>Unnamed: 0</th>\n",
       "      <th>product_id</th>\n",
       "      <th>product_name</th>\n",
       "      <th>department_id</th>\n",
       "      <th>prices</th>\n",
       "      <th>order_id</th>\n",
       "      <th>user_id</th>\n",
       "      <th>eval_set</th>\n",
       "      <th>order_number</th>\n",
       "      <th>orders_day_of_week</th>\n",
       "      <th>...</th>\n",
       "      <th>state</th>\n",
       "      <th>age</th>\n",
       "      <th>date_joined</th>\n",
       "      <th>#_dependants</th>\n",
       "      <th>marital_status</th>\n",
       "      <th>income</th>\n",
       "      <th>#_depndants</th>\n",
       "      <th>region</th>\n",
       "      <th>exclusion_flag</th>\n",
       "      <th>time_of_day</th>\n",
       "    </tr>\n",
       "  </thead>\n",
       "  <tbody>\n",
       "    <tr>\n",
       "      <th>0</th>\n",
       "      <td>0</td>\n",
       "      <td>1</td>\n",
       "      <td>Chocolate Sandwich Cookies</td>\n",
       "      <td>19</td>\n",
       "      <td>5.8</td>\n",
       "      <td>65</td>\n",
       "      <td>9</td>\n",
       "      <td>prior</td>\n",
       "      <td>16</td>\n",
       "      <td>1</td>\n",
       "      <td>...</td>\n",
       "      <td>District of Columbia</td>\n",
       "      <td>79</td>\n",
       "      <td>1/16/2020</td>\n",
       "      <td>3</td>\n",
       "      <td>married</td>\n",
       "      <td>119</td>\n",
       "      <td>3</td>\n",
       "      <td>South</td>\n",
       "      <td>Normal activity customer</td>\n",
       "      <td>morning</td>\n",
       "    </tr>\n",
       "    <tr>\n",
       "      <th>1</th>\n",
       "      <td>0</td>\n",
       "      <td>1</td>\n",
       "      <td>Chocolate Sandwich Cookies</td>\n",
       "      <td>19</td>\n",
       "      <td>5.8</td>\n",
       "      <td>-103</td>\n",
       "      <td>9</td>\n",
       "      <td>prior</td>\n",
       "      <td>2</td>\n",
       "      <td>1</td>\n",
       "      <td>...</td>\n",
       "      <td>District of Columbia</td>\n",
       "      <td>79</td>\n",
       "      <td>1/16/2020</td>\n",
       "      <td>3</td>\n",
       "      <td>married</td>\n",
       "      <td>119</td>\n",
       "      <td>3</td>\n",
       "      <td>South</td>\n",
       "      <td>Normal activity customer</td>\n",
       "      <td>afternoon</td>\n",
       "    </tr>\n",
       "    <tr>\n",
       "      <th>2</th>\n",
       "      <td>0</td>\n",
       "      <td>1</td>\n",
       "      <td>Chocolate Sandwich Cookies</td>\n",
       "      <td>19</td>\n",
       "      <td>5.8</td>\n",
       "      <td>113</td>\n",
       "      <td>9</td>\n",
       "      <td>prior</td>\n",
       "      <td>4</td>\n",
       "      <td>4</td>\n",
       "      <td>...</td>\n",
       "      <td>District of Columbia</td>\n",
       "      <td>79</td>\n",
       "      <td>1/16/2020</td>\n",
       "      <td>3</td>\n",
       "      <td>married</td>\n",
       "      <td>119</td>\n",
       "      <td>3</td>\n",
       "      <td>South</td>\n",
       "      <td>Normal activity customer</td>\n",
       "      <td>morning</td>\n",
       "    </tr>\n",
       "    <tr>\n",
       "      <th>3</th>\n",
       "      <td>0</td>\n",
       "      <td>1</td>\n",
       "      <td>Chocolate Sandwich Cookies</td>\n",
       "      <td>19</td>\n",
       "      <td>5.8</td>\n",
       "      <td>-67</td>\n",
       "      <td>9</td>\n",
       "      <td>prior</td>\n",
       "      <td>6</td>\n",
       "      <td>1</td>\n",
       "      <td>...</td>\n",
       "      <td>District of Columbia</td>\n",
       "      <td>79</td>\n",
       "      <td>1/16/2020</td>\n",
       "      <td>3</td>\n",
       "      <td>married</td>\n",
       "      <td>119</td>\n",
       "      <td>3</td>\n",
       "      <td>South</td>\n",
       "      <td>Normal activity customer</td>\n",
       "      <td>afternoon</td>\n",
       "    </tr>\n",
       "    <tr>\n",
       "      <th>4</th>\n",
       "      <td>0</td>\n",
       "      <td>1</td>\n",
       "      <td>Chocolate Sandwich Cookies</td>\n",
       "      <td>19</td>\n",
       "      <td>5.8</td>\n",
       "      <td>-12</td>\n",
       "      <td>9</td>\n",
       "      <td>prior</td>\n",
       "      <td>7</td>\n",
       "      <td>4</td>\n",
       "      <td>...</td>\n",
       "      <td>District of Columbia</td>\n",
       "      <td>79</td>\n",
       "      <td>1/16/2020</td>\n",
       "      <td>3</td>\n",
       "      <td>married</td>\n",
       "      <td>119</td>\n",
       "      <td>3</td>\n",
       "      <td>South</td>\n",
       "      <td>Normal activity customer</td>\n",
       "      <td>afternoon</td>\n",
       "    </tr>\n",
       "  </tbody>\n",
       "</table>\n",
       "<p>5 rows × 37 columns</p>\n",
       "</div>"
      ],
      "text/plain": [
       "   Unnamed: 0  product_id                product_name department_id  prices  \\\n",
       "0           0           1  Chocolate Sandwich Cookies            19     5.8   \n",
       "1           0           1  Chocolate Sandwich Cookies            19     5.8   \n",
       "2           0           1  Chocolate Sandwich Cookies            19     5.8   \n",
       "3           0           1  Chocolate Sandwich Cookies            19     5.8   \n",
       "4           0           1  Chocolate Sandwich Cookies            19     5.8   \n",
       "\n",
       "   order_id user_id eval_set  order_number  orders_day_of_week  ...  \\\n",
       "0        65       9    prior            16                   1  ...   \n",
       "1      -103       9    prior             2                   1  ...   \n",
       "2       113       9    prior             4                   4  ...   \n",
       "3       -67       9    prior             6                   1  ...   \n",
       "4       -12       9    prior             7                   4  ...   \n",
       "\n",
       "                  state  age  date_joined  #_dependants marital_status income  \\\n",
       "0  District of Columbia   79    1/16/2020             3        married    119   \n",
       "1  District of Columbia   79    1/16/2020             3        married    119   \n",
       "2  District of Columbia   79    1/16/2020             3        married    119   \n",
       "3  District of Columbia   79    1/16/2020             3        married    119   \n",
       "4  District of Columbia   79    1/16/2020             3        married    119   \n",
       "\n",
       "  #_depndants region            exclusion_flag time_of_day  \n",
       "0           3  South  Normal activity customer     morning  \n",
       "1           3  South  Normal activity customer   afternoon  \n",
       "2           3  South  Normal activity customer     morning  \n",
       "3           3  South  Normal activity customer   afternoon  \n",
       "4           3  South  Normal activity customer   afternoon  \n",
       "\n",
       "[5 rows x 37 columns]"
      ]
     },
     "execution_count": 101,
     "metadata": {},
     "output_type": "execute_result"
    }
   ],
   "source": [
    "full_data_orders.head()"
   ]
  },
  {
   "cell_type": "code",
   "execution_count": 102,
   "id": "4ec6807f",
   "metadata": {},
   "outputs": [],
   "source": [
    "## Visualization"
   ]
  },
  {
   "cell_type": "code",
   "execution_count": 108,
   "id": "101ab295",
   "metadata": {},
   "outputs": [
    {
     "data": {
      "image/png": "[encoded data removed]",
      "text/plain": [
       "<Figure size 432x288 with 1 Axes>"
      ]
     },
     "metadata": {
      "needs_background": "light"
     },
     "output_type": "display_data"
    }
   ],
   "source": [
    "bar=full_data_orders['time_of_day'].value_counts().plot.bar(color='yellow')"
   ]
  },
  {
   "cell_type": "code",
   "execution_count": 109,
   "id": "31b21d87",
   "metadata": {},
   "outputs": [],
   "source": [
    "## Between 12:00 pm to 05:00 pm has a higher demand in orders whilst early mornings, the hours between 12:00 am to 06:00 am has a low side in ordering."
   ]
  },
  {
   "cell_type": "code",
   "execution_count": 111,
   "id": "35ad0b3e",
   "metadata": {},
   "outputs": [
    {
     "data": {
      "text/plain": [
       "Index(['Unnamed: 0', 'product_id', 'product_name', 'department_id', 'prices',\n",
       "       'order_id', 'user_id', 'eval_set', 'order_number', 'orders_day_of_week',\n",
       "       'order_time_of_day', 'days_since_prior_order', 'add_to_cart_order',\n",
       "       'reordered', 'busiest_day', 'busiest days', 'busiest_days',\n",
       "       'busiest_period_of_day', 'max_order', 'loyalty_flag',\n",
       "       'average_spending', 'spending_flag', 'purchase_frequency',\n",
       "       'frequency_flag', 'first_name', 'Surnam', 'gender', 'state', 'age',\n",
       "       'date_joined', '#_dependants', 'marital_status', 'income',\n",
       "       '#_depndants', 'region', 'exclusion_flag'],\n",
       "      dtype='object')"
      ]
     },
     "execution_count": 111,
     "metadata": {},
     "output_type": "execute_result"
    }
   ],
   "source": [
    "full_data.columns"
   ]
  },
  {
   "cell_type": "code",
   "execution_count": 112,
   "id": "9b9ea309",
   "metadata": {},
   "outputs": [],
   "source": [
    "## Values in department column"
   ]
  },
  {
   "cell_type": "code",
   "execution_count": 119,
   "id": "79a2ba10",
   "metadata": {},
   "outputs": [
    {
     "name": "stdout",
     "output_type": "stream",
     "text": [
      "['19' '1' '16' '7' '12' '11' '14' '15' '4' '6' '20' '13' '18' '3' '17' '9'\n",
      " '5' '8' '21' '10' '2']\n"
     ]
    }
   ],
   "source": [
    "print(full_data['department_id'].unique())"
   ]
  },
  {
   "cell_type": "code",
   "execution_count": 120,
   "id": "40aedc88",
   "metadata": {},
   "outputs": [
    {
     "data": {
      "text/html": [
       "<div>\n",
       "<style scoped>\n",
       "    .dataframe tbody tr th:only-of-type {\n",
       "        vertical-align: middle;\n",
       "    }\n",
       "\n",
       "    .dataframe tbody tr th {\n",
       "        vertical-align: top;\n",
       "    }\n",
       "\n",
       "    .dataframe thead th {\n",
       "        text-align: right;\n",
       "    }\n",
       "</style>\n",
       "<table border=\"1\" class=\"dataframe\">\n",
       "  <thead>\n",
       "    <tr style=\"text-align: right;\">\n",
       "      <th>department_id</th>\n",
       "      <th>department</th>\n",
       "    </tr>\n",
       "  </thead>\n",
       "  <tbody>\n",
       "    <tr>\n",
       "      <th>1</th>\n",
       "      <td>frozen</td>\n",
       "    </tr>\n",
       "    <tr>\n",
       "      <th>2</th>\n",
       "      <td>other</td>\n",
       "    </tr>\n",
       "    <tr>\n",
       "      <th>3</th>\n",
       "      <td>bakery</td>\n",
       "    </tr>\n",
       "    <tr>\n",
       "      <th>4</th>\n",
       "      <td>produce</td>\n",
       "    </tr>\n",
       "    <tr>\n",
       "      <th>5</th>\n",
       "      <td>alcohol</td>\n",
       "    </tr>\n",
       "    <tr>\n",
       "      <th>6</th>\n",
       "      <td>international</td>\n",
       "    </tr>\n",
       "    <tr>\n",
       "      <th>7</th>\n",
       "      <td>beverages</td>\n",
       "    </tr>\n",
       "    <tr>\n",
       "      <th>8</th>\n",
       "      <td>pets</td>\n",
       "    </tr>\n",
       "    <tr>\n",
       "      <th>9</th>\n",
       "      <td>dry goods pasta</td>\n",
       "    </tr>\n",
       "    <tr>\n",
       "      <th>10</th>\n",
       "      <td>bulk</td>\n",
       "    </tr>\n",
       "    <tr>\n",
       "      <th>11</th>\n",
       "      <td>personal care</td>\n",
       "    </tr>\n",
       "    <tr>\n",
       "      <th>12</th>\n",
       "      <td>meat seafood</td>\n",
       "    </tr>\n",
       "    <tr>\n",
       "      <th>13</th>\n",
       "      <td>pantry</td>\n",
       "    </tr>\n",
       "    <tr>\n",
       "      <th>14</th>\n",
       "      <td>breakfast</td>\n",
       "    </tr>\n",
       "    <tr>\n",
       "      <th>15</th>\n",
       "      <td>canned goods</td>\n",
       "    </tr>\n",
       "    <tr>\n",
       "      <th>16</th>\n",
       "      <td>dairy eggs</td>\n",
       "    </tr>\n",
       "    <tr>\n",
       "      <th>17</th>\n",
       "      <td>household</td>\n",
       "    </tr>\n",
       "    <tr>\n",
       "      <th>18</th>\n",
       "      <td>babies</td>\n",
       "    </tr>\n",
       "    <tr>\n",
       "      <th>19</th>\n",
       "      <td>snacks</td>\n",
       "    </tr>\n",
       "    <tr>\n",
       "      <th>20</th>\n",
       "      <td>deli</td>\n",
       "    </tr>\n",
       "    <tr>\n",
       "      <th>21</th>\n",
       "      <td>missing</td>\n",
       "    </tr>\n",
       "  </tbody>\n",
       "</table>\n",
       "</div>"
      ],
      "text/plain": [
       "department_id       department\n",
       "1                       frozen\n",
       "2                        other\n",
       "3                       bakery\n",
       "4                      produce\n",
       "5                      alcohol\n",
       "6                international\n",
       "7                    beverages\n",
       "8                         pets\n",
       "9              dry goods pasta\n",
       "10                        bulk\n",
       "11               personal care\n",
       "12                meat seafood\n",
       "13                      pantry\n",
       "14                   breakfast\n",
       "15                canned goods\n",
       "16                  dairy eggs\n",
       "17                   household\n",
       "18                      babies\n",
       "19                      snacks\n",
       "20                        deli\n",
       "21                     missing"
      ]
     },
     "execution_count": 120,
     "metadata": {},
     "output_type": "execute_result"
    }
   ],
   "source": [
    "df_dep_t_new"
   ]
  },
  {
   "cell_type": "code",
   "execution_count": 125,
   "id": "173d519f",
   "metadata": {},
   "outputs": [
    {
     "name": "stdout",
     "output_type": "stream",
     "text": [
      "['frozen' 'other' 'bakery' 'produce' 'alcohol' 'international' 'beverages'\n",
      " 'pets' 'dry goods pasta' 'bulk' 'personal care' 'meat seafood' 'pantry'\n",
      " 'breakfast' 'canned goods' 'dairy eggs' 'household' 'babies' 'snacks'\n",
      " 'deli' 'missing']\n"
     ]
    }
   ],
   "source": [
    "print(df_dep_t_new['department'].unique())"
   ]
  },
  {
   "cell_type": "code",
   "execution_count": 126,
   "id": "48f6cf16",
   "metadata": {},
   "outputs": [],
   "source": [
    "## Products from Pet department"
   ]
  },
  {
   "cell_type": "code",
   "execution_count": 129,
   "id": "bdd68d27",
   "metadata": {},
   "outputs": [
    {
     "name": "stderr",
     "output_type": "stream",
     "text": [
      "C:\\Users\\Saskia\\AppData\\Local\\Temp\\ipykernel_12008\\2307259399.py:1: SettingWithCopyWarning: \n",
      "A value is trying to be set on a copy of a slice from a DataFrame.\n",
      "Try using .loc[row_indexer,col_indexer] = value instead\n",
      "\n",
      "See the caveats in the documentation: https://pandas.pydata.org/pandas-docs/stable/user_guide/indexing.html#returning-a-view-versus-a-copy\n",
      "  df_dep_t_new['pet_stuff'] = [1 if x == 'pets' else 0 for x in df_dep_t_new['department']]\n"
     ]
    }
   ],
   "source": [
    "df_dep_t_new['pet_stuff'] = [1 if x == 'pets' else 0 for x in df_dep_t_new['department']]"
   ]
  },
  {
   "cell_type": "code",
   "execution_count": 137,
   "id": "161ea071",
   "metadata": {},
   "outputs": [
    {
     "name": "stderr",
     "output_type": "stream",
     "text": [
      "C:\\Users\\Saskia\\AppData\\Local\\Temp\\ipykernel_12008\\4067645080.py:1: SettingWithCopyWarning: \n",
      "A value is trying to be set on a copy of a slice from a DataFrame.\n",
      "Try using .loc[row_indexer,col_indexer] = value instead\n",
      "\n",
      "See the caveats in the documentation: https://pandas.pydata.org/pandas-docs/stable/user_guide/indexing.html#returning-a-view-versus-a-copy\n",
      "  df_dep_t_new['pet_stuff'] = df_dep_t_new.groupby(['department'])['pet_stuff'].transform('max')\n"
     ]
    }
   ],
   "source": [
    "df_dep_t_new['pet_stuff'] = df_dep_t_new.groupby(['department'])['pet_stuff'].transform('max')"
   ]
  },
  {
   "cell_type": "code",
   "execution_count": 138,
   "id": "fe0121f0",
   "metadata": {},
   "outputs": [
    {
     "name": "stderr",
     "output_type": "stream",
     "text": [
      "C:\\Users\\Saskia\\AppData\\Local\\Temp\\ipykernel_12008\\4070420271.py:1: SettingWithCopyWarning: \n",
      "A value is trying to be set on a copy of a slice from a DataFrame.\n",
      "Try using .loc[row_indexer,col_indexer] = value instead\n",
      "\n",
      "See the caveats in the documentation: https://pandas.pydata.org/pandas-docs/stable/user_guide/indexing.html#returning-a-view-versus-a-copy\n",
      "  df_dep_t_new['pet_stuff'] = df_dep_t_new['pet_stuff'].astype('int8')\n"
     ]
    }
   ],
   "source": [
    "df_dep_t_new['pet_stuff'] = df_dep_t_new['pet_stuff'].astype('int8')"
   ]
  },
  {
   "cell_type": "code",
   "execution_count": 140,
   "id": "d3808f85",
   "metadata": {},
   "outputs": [],
   "source": [
    "## Groupping (Income)\n",
    "# Below 52,200 = Low Income\n",
    "# Between 52,200 & 156,600 = Middle Income\n",
    "# Above 156,600 = High Income"
   ]
  },
  {
   "cell_type": "code",
   "execution_count": 144,
   "id": "c099e748",
   "metadata": {},
   "outputs": [],
   "source": [
    "full_data.loc[full_data['income']<52200, 'income_flag'] = 'Low Income'"
   ]
  },
  {
   "cell_type": "code",
   "execution_count": 145,
   "id": "978cde36",
   "metadata": {},
   "outputs": [],
   "source": [
    "full_data.loc[(full_data['income']>=52200) & (full_data['income']<=156600), 'income_flag'] = 'Middle Income'"
   ]
  },
  {
   "cell_type": "code",
   "execution_count": 146,
   "id": "758c2d6d",
   "metadata": {},
   "outputs": [],
   "source": [
    "full_data.loc[full_data['income']>156600, 'income_flag'] = 'High Income'"
   ]
  },
  {
   "cell_type": "code",
   "execution_count": 147,
   "id": "39b3a858",
   "metadata": {},
   "outputs": [
    {
     "data": {
      "text/plain": [
       "Low Income    16153014\n",
       "Name: income_flag, dtype: int64"
      ]
     },
     "execution_count": 147,
     "metadata": {},
     "output_type": "execute_result"
    }
   ],
   "source": [
    "full_data['income_flag'].value_counts(dropna=False)"
   ]
  },
  {
   "cell_type": "code",
   "execution_count": 148,
   "id": "47deb9d5",
   "metadata": {},
   "outputs": [],
   "source": [
    "full_data_income = full_data.drop_duplicates(subset='income').copy()"
   ]
  },
  {
   "cell_type": "code",
   "execution_count": 170,
   "id": "854b13e6",
   "metadata": {},
   "outputs": [],
   "source": [
    "full_data_income.loc[full_data_income['income']<52200, 'income_flag'] = 'Low Income'"
   ]
  },
  {
   "cell_type": "code",
   "execution_count": 171,
   "id": "3251abe5",
   "metadata": {},
   "outputs": [],
   "source": [
    "full_data_income.loc[(full_data_income['income']>=52200) & (full_data_income['income']<=156600), 'income_flag'] = 'Middle Income'"
   ]
  },
  {
   "cell_type": "code",
   "execution_count": 172,
   "id": "761a88d5",
   "metadata": {},
   "outputs": [],
   "source": [
    "full_data_income.loc[full_data_income['income']>156600, 'income_flag'] = 'High Income'"
   ]
  },
  {
   "cell_type": "code",
   "execution_count": 173,
   "id": "9a8ac6eb",
   "metadata": {},
   "outputs": [
    {
     "data": {
      "text/plain": [
       "Low Income    16153014\n",
       "Name: income_flag, dtype: int64"
      ]
     },
     "execution_count": 173,
     "metadata": {},
     "output_type": "execute_result"
    }
   ],
   "source": [
    "full_data['income_flag'].value_counts(dropna=False)"
   ]
  },
  {
   "cell_type": "code",
   "execution_count": 174,
   "id": "eca5afc7",
   "metadata": {},
   "outputs": [
    {
     "data": {
      "text/html": [
       "<div>\n",
       "<style scoped>\n",
       "    .dataframe tbody tr th:only-of-type {\n",
       "        vertical-align: middle;\n",
       "    }\n",
       "\n",
       "    .dataframe tbody tr th {\n",
       "        vertical-align: top;\n",
       "    }\n",
       "\n",
       "    .dataframe thead th {\n",
       "        text-align: right;\n",
       "    }\n",
       "</style>\n",
       "<table border=\"1\" class=\"dataframe\">\n",
       "  <thead>\n",
       "    <tr style=\"text-align: right;\">\n",
       "      <th></th>\n",
       "      <th>Unnamed: 0</th>\n",
       "      <th>product_id</th>\n",
       "      <th>product_name</th>\n",
       "      <th>department_id</th>\n",
       "      <th>prices</th>\n",
       "      <th>order_id</th>\n",
       "      <th>user_id</th>\n",
       "      <th>eval_set</th>\n",
       "      <th>order_number</th>\n",
       "      <th>orders_day_of_week</th>\n",
       "      <th>...</th>\n",
       "      <th>state</th>\n",
       "      <th>age</th>\n",
       "      <th>date_joined</th>\n",
       "      <th>#_dependants</th>\n",
       "      <th>marital_status</th>\n",
       "      <th>income</th>\n",
       "      <th>#_depndants</th>\n",
       "      <th>region</th>\n",
       "      <th>exclusion_flag</th>\n",
       "      <th>income_flag</th>\n",
       "    </tr>\n",
       "  </thead>\n",
       "  <tbody>\n",
       "    <tr>\n",
       "      <th>0</th>\n",
       "      <td>0</td>\n",
       "      <td>1</td>\n",
       "      <td>Chocolate Sandwich Cookies</td>\n",
       "      <td>19</td>\n",
       "      <td>5.8</td>\n",
       "      <td>65</td>\n",
       "      <td>9</td>\n",
       "      <td>prior</td>\n",
       "      <td>16</td>\n",
       "      <td>1</td>\n",
       "      <td>...</td>\n",
       "      <td>District of Columbia</td>\n",
       "      <td>79</td>\n",
       "      <td>1/16/2020</td>\n",
       "      <td>3</td>\n",
       "      <td>married</td>\n",
       "      <td>119</td>\n",
       "      <td>3</td>\n",
       "      <td>South</td>\n",
       "      <td>Normal activity customer</td>\n",
       "      <td>Low Income</td>\n",
       "    </tr>\n",
       "    <tr>\n",
       "      <th>1</th>\n",
       "      <td>0</td>\n",
       "      <td>1</td>\n",
       "      <td>Chocolate Sandwich Cookies</td>\n",
       "      <td>19</td>\n",
       "      <td>5.8</td>\n",
       "      <td>-103</td>\n",
       "      <td>9</td>\n",
       "      <td>prior</td>\n",
       "      <td>2</td>\n",
       "      <td>1</td>\n",
       "      <td>...</td>\n",
       "      <td>District of Columbia</td>\n",
       "      <td>79</td>\n",
       "      <td>1/16/2020</td>\n",
       "      <td>3</td>\n",
       "      <td>married</td>\n",
       "      <td>119</td>\n",
       "      <td>3</td>\n",
       "      <td>South</td>\n",
       "      <td>Normal activity customer</td>\n",
       "      <td>Low Income</td>\n",
       "    </tr>\n",
       "    <tr>\n",
       "      <th>2</th>\n",
       "      <td>0</td>\n",
       "      <td>1</td>\n",
       "      <td>Chocolate Sandwich Cookies</td>\n",
       "      <td>19</td>\n",
       "      <td>5.8</td>\n",
       "      <td>113</td>\n",
       "      <td>9</td>\n",
       "      <td>prior</td>\n",
       "      <td>4</td>\n",
       "      <td>4</td>\n",
       "      <td>...</td>\n",
       "      <td>District of Columbia</td>\n",
       "      <td>79</td>\n",
       "      <td>1/16/2020</td>\n",
       "      <td>3</td>\n",
       "      <td>married</td>\n",
       "      <td>119</td>\n",
       "      <td>3</td>\n",
       "      <td>South</td>\n",
       "      <td>Normal activity customer</td>\n",
       "      <td>Low Income</td>\n",
       "    </tr>\n",
       "    <tr>\n",
       "      <th>3</th>\n",
       "      <td>0</td>\n",
       "      <td>1</td>\n",
       "      <td>Chocolate Sandwich Cookies</td>\n",
       "      <td>19</td>\n",
       "      <td>5.8</td>\n",
       "      <td>-67</td>\n",
       "      <td>9</td>\n",
       "      <td>prior</td>\n",
       "      <td>6</td>\n",
       "      <td>1</td>\n",
       "      <td>...</td>\n",
       "      <td>District of Columbia</td>\n",
       "      <td>79</td>\n",
       "      <td>1/16/2020</td>\n",
       "      <td>3</td>\n",
       "      <td>married</td>\n",
       "      <td>119</td>\n",
       "      <td>3</td>\n",
       "      <td>South</td>\n",
       "      <td>Normal activity customer</td>\n",
       "      <td>Low Income</td>\n",
       "    </tr>\n",
       "    <tr>\n",
       "      <th>4</th>\n",
       "      <td>0</td>\n",
       "      <td>1</td>\n",
       "      <td>Chocolate Sandwich Cookies</td>\n",
       "      <td>19</td>\n",
       "      <td>5.8</td>\n",
       "      <td>-12</td>\n",
       "      <td>9</td>\n",
       "      <td>prior</td>\n",
       "      <td>7</td>\n",
       "      <td>4</td>\n",
       "      <td>...</td>\n",
       "      <td>District of Columbia</td>\n",
       "      <td>79</td>\n",
       "      <td>1/16/2020</td>\n",
       "      <td>3</td>\n",
       "      <td>married</td>\n",
       "      <td>119</td>\n",
       "      <td>3</td>\n",
       "      <td>South</td>\n",
       "      <td>Normal activity customer</td>\n",
       "      <td>Low Income</td>\n",
       "    </tr>\n",
       "  </tbody>\n",
       "</table>\n",
       "<p>5 rows × 37 columns</p>\n",
       "</div>"
      ],
      "text/plain": [
       "   Unnamed: 0  product_id                product_name department_id  prices  \\\n",
       "0           0           1  Chocolate Sandwich Cookies            19     5.8   \n",
       "1           0           1  Chocolate Sandwich Cookies            19     5.8   \n",
       "2           0           1  Chocolate Sandwich Cookies            19     5.8   \n",
       "3           0           1  Chocolate Sandwich Cookies            19     5.8   \n",
       "4           0           1  Chocolate Sandwich Cookies            19     5.8   \n",
       "\n",
       "   order_id user_id eval_set  order_number  orders_day_of_week  ...  \\\n",
       "0        65       9    prior            16                   1  ...   \n",
       "1      -103       9    prior             2                   1  ...   \n",
       "2       113       9    prior             4                   4  ...   \n",
       "3       -67       9    prior             6                   1  ...   \n",
       "4       -12       9    prior             7                   4  ...   \n",
       "\n",
       "                  state  age  date_joined  #_dependants marital_status income  \\\n",
       "0  District of Columbia   79    1/16/2020             3        married    119   \n",
       "1  District of Columbia   79    1/16/2020             3        married    119   \n",
       "2  District of Columbia   79    1/16/2020             3        married    119   \n",
       "3  District of Columbia   79    1/16/2020             3        married    119   \n",
       "4  District of Columbia   79    1/16/2020             3        married    119   \n",
       "\n",
       "  #_depndants region            exclusion_flag income_flag  \n",
       "0           3  South  Normal activity customer  Low Income  \n",
       "1           3  South  Normal activity customer  Low Income  \n",
       "2           3  South  Normal activity customer  Low Income  \n",
       "3           3  South  Normal activity customer  Low Income  \n",
       "4           3  South  Normal activity customer  Low Income  \n",
       "\n",
       "[5 rows x 37 columns]"
      ]
     },
     "execution_count": 174,
     "metadata": {},
     "output_type": "execute_result"
    }
   ],
   "source": [
    "full_data.head()"
   ]
  },
  {
   "cell_type": "code",
   "execution_count": 175,
   "id": "e5b139f8",
   "metadata": {},
   "outputs": [
    {
     "name": "stdout",
     "output_type": "stream",
     "text": [
      "<class 'pandas.core.frame.DataFrame'>\n",
      "Int64Index: 16153014 entries, 0 to 16153013\n",
      "Data columns (total 37 columns):\n",
      " #   Column                  Dtype  \n",
      "---  ------                  -----  \n",
      " 0   Unnamed: 0              int32  \n",
      " 1   product_id              int8   \n",
      " 2   product_name            object \n",
      " 3   department_id           object \n",
      " 4   prices                  float64\n",
      " 5   order_id                int8   \n",
      " 6   user_id                 object \n",
      " 7   eval_set                object \n",
      " 8   order_number            int8   \n",
      " 9   orders_day_of_week      int8   \n",
      " 10  order_time_of_day       int8   \n",
      " 11  days_since_prior_order  float64\n",
      " 12  add_to_cart_order       int8   \n",
      " 13  reordered               int8   \n",
      " 14  busiest_day             object \n",
      " 15  busiest days            object \n",
      " 16  busiest_days            object \n",
      " 17  busiest_period_of_day   object \n",
      " 18  max_order               int8   \n",
      " 19  loyalty_flag            object \n",
      " 20  average_spending        float64\n",
      " 21  spending_flag           object \n",
      " 22  purchase_frequency      float64\n",
      " 23  frequency_flag          object \n",
      " 24  first_name              object \n",
      " 25  Surnam                  object \n",
      " 26  gender                  object \n",
      " 27  state                   object \n",
      " 28  age                     int8   \n",
      " 29  date_joined             object \n",
      " 30  #_dependants            int32  \n",
      " 31  marital_status          object \n",
      " 32  income                  int8   \n",
      " 33  #_depndants             int8   \n",
      " 34  region                  object \n",
      " 35  exclusion_flag          object \n",
      " 36  income_flag             object \n",
      "dtypes: float64(4), int32(2), int8(11), object(20)\n",
      "memory usage: 3.8+ GB\n"
     ]
    }
   ],
   "source": [
    "full_data.info()"
   ]
  },
  {
   "cell_type": "code",
   "execution_count": 179,
   "id": "8306429d",
   "metadata": {},
   "outputs": [],
   "source": [
    "bar.figure.savefig(os.path.join(path, '04 Analysis','Visualisations', 'bar_time_of_day'))"
   ]
  },
  {
   "cell_type": "code",
   "execution_count": 180,
   "id": "00aea119",
   "metadata": {},
   "outputs": [
    {
     "data": {
      "image/png": "[encoded data removed]",
      "text/plain": [
       "<Figure size 432x288 with 1 Axes>"
      ]
     },
     "metadata": {
      "needs_background": "light"
     },
     "output_type": "display_data"
    }
   ],
   "source": [
    "bar=full_data_activity_1['age_range'].value_counts().plot.bar(color='blue')"
   ]
  },
  {
   "cell_type": "code",
   "execution_count": 181,
   "id": "012f7b7a",
   "metadata": {},
   "outputs": [],
   "source": [
    "bar.figure.savefig(os.path.join(path, '04 Analysis','Visualisations', 'bar_age_range'))"
   ]
  },
  {
   "cell_type": "code",
   "execution_count": 182,
   "id": "0302c9a1",
   "metadata": {},
   "outputs": [],
   "source": [
    "## Exporting final work as a pickle file"
   ]
  },
  {
   "cell_type": "code",
   "execution_count": 183,
   "id": "1b443bde",
   "metadata": {},
   "outputs": [],
   "source": [
    "full_data.to_pickle(os.path.join(path, '02 Data','Prepared Data','4,10.1pkl'))"
   ]
  },
  {
   "cell_type": "code",
   "execution_count": null,
   "id": "34da39d9",
   "metadata": {},
   "outputs": [],
   "source": []
  }
 ],
 "metadata": {
  "kernelspec": {
   "display_name": "Python 3 (ipykernel)",
   "language": "python",
   "name": "python3"
  },
  "language_info": {
   "codemirror_mode": {
    "name": "ipython",
    "version": 3
   },
   "file_extension": ".py",
   "mimetype": "text/x-python",
   "name": "python",
   "nbconvert_exporter": "python",
   "pygments_lexer": "ipython3",
   "version": "3.9.12"
  }
 },
 "nbformat": 4,
 "nbformat_minor": 5
}
